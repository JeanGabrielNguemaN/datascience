{
 "cells": [
  {
   "cell_type": "code",
   "execution_count": 1,
   "metadata": {},
   "outputs": [],
   "source": [
    "import pandas as pd\n",
    "import matplotlib.pyplot as plt\n",
    "import numpy as np\n",
    "import random"
   ]
  },
  {
   "cell_type": "code",
   "execution_count": 2,
   "metadata": {},
   "outputs": [],
   "source": [
    "df_train = pd.read_csv('train.csv.zip', compression='zip')"
   ]
  },
  {
   "cell_type": "code",
   "execution_count": 3,
   "metadata": {},
   "outputs": [
    {
     "data": {
      "text/plain": [
       "1503424"
      ]
     },
     "execution_count": 3,
     "metadata": {},
     "output_type": "execute_result"
    }
   ],
   "source": [
    "len(df_train.index)"
   ]
  },
  {
   "cell_type": "code",
   "execution_count": 4,
   "metadata": {
    "scrolled": true
   },
   "outputs": [
    {
     "data": {
      "text/html": [
       "<div>\n",
       "<style scoped>\n",
       "    .dataframe tbody tr th:only-of-type {\n",
       "        vertical-align: middle;\n",
       "    }\n",
       "\n",
       "    .dataframe tbody tr th {\n",
       "        vertical-align: top;\n",
       "    }\n",
       "\n",
       "    .dataframe thead th {\n",
       "        text-align: right;\n",
       "    }\n",
       "</style>\n",
       "<table border=\"1\" class=\"dataframe\">\n",
       "  <thead>\n",
       "    <tr style=\"text-align: right;\">\n",
       "      <th></th>\n",
       "      <th>item_id</th>\n",
       "      <th>user_id</th>\n",
       "      <th>region</th>\n",
       "      <th>city</th>\n",
       "      <th>parent_category_name</th>\n",
       "      <th>category_name</th>\n",
       "      <th>param_1</th>\n",
       "      <th>param_2</th>\n",
       "      <th>param_3</th>\n",
       "      <th>title</th>\n",
       "      <th>description</th>\n",
       "      <th>price</th>\n",
       "      <th>item_seq_number</th>\n",
       "      <th>activation_date</th>\n",
       "      <th>user_type</th>\n",
       "      <th>image</th>\n",
       "      <th>image_top_1</th>\n",
       "      <th>deal_probability</th>\n",
       "    </tr>\n",
       "  </thead>\n",
       "  <tbody>\n",
       "    <tr>\n",
       "      <th>0</th>\n",
       "      <td>b912c3c6a6ad</td>\n",
       "      <td>e00f8ff2eaf9</td>\n",
       "      <td>Свердловская область</td>\n",
       "      <td>Екатеринбург</td>\n",
       "      <td>Личные вещи</td>\n",
       "      <td>Товары для детей и игрушки</td>\n",
       "      <td>Постельные принадлежности</td>\n",
       "      <td>NaN</td>\n",
       "      <td>NaN</td>\n",
       "      <td>Кокоби(кокон для сна)</td>\n",
       "      <td>Кокон для сна малыша,пользовались меньше месяц...</td>\n",
       "      <td>400.0</td>\n",
       "      <td>2</td>\n",
       "      <td>2017-03-28</td>\n",
       "      <td>Private</td>\n",
       "      <td>d10c7e016e03247a3bf2d13348fe959fe6f436c1caf64c...</td>\n",
       "      <td>1008.0</td>\n",
       "      <td>0.12789</td>\n",
       "    </tr>\n",
       "  </tbody>\n",
       "</table>\n",
       "</div>"
      ],
      "text/plain": [
       "        item_id       user_id                region          city  \\\n",
       "0  b912c3c6a6ad  e00f8ff2eaf9  Свердловская область  Екатеринбург   \n",
       "\n",
       "  parent_category_name               category_name                    param_1  \\\n",
       "0          Личные вещи  Товары для детей и игрушки  Постельные принадлежности   \n",
       "\n",
       "  param_2 param_3                  title  \\\n",
       "0     NaN     NaN  Кокоби(кокон для сна)   \n",
       "\n",
       "                                         description  price  item_seq_number  \\\n",
       "0  Кокон для сна малыша,пользовались меньше месяц...  400.0                2   \n",
       "\n",
       "  activation_date user_type  \\\n",
       "0      2017-03-28   Private   \n",
       "\n",
       "                                               image  image_top_1  \\\n",
       "0  d10c7e016e03247a3bf2d13348fe959fe6f436c1caf64c...       1008.0   \n",
       "\n",
       "   deal_probability  \n",
       "0           0.12789  "
      ]
     },
     "execution_count": 4,
     "metadata": {},
     "output_type": "execute_result"
    }
   ],
   "source": [
    "df_train.head(1)"
   ]
  },
  {
   "cell_type": "markdown",
   "metadata": {},
   "source": [
    "Identificar colunas nulas"
   ]
  },
  {
   "cell_type": "code",
   "execution_count": 5,
   "metadata": {},
   "outputs": [
    {
     "data": {
      "text/plain": [
       "item_id                      0\n",
       "user_id                      0\n",
       "region                       0\n",
       "city                         0\n",
       "parent_category_name         0\n",
       "category_name                0\n",
       "param_1                  61576\n",
       "param_2                 654542\n",
       "param_3                 862565\n",
       "title                        0\n",
       "description             116276\n",
       "price                    85362\n",
       "item_seq_number              0\n",
       "activation_date              0\n",
       "user_type                    0\n",
       "image                   112588\n",
       "image_top_1             112588\n",
       "deal_probability             0\n",
       "dtype: int64"
      ]
     },
     "execution_count": 5,
     "metadata": {},
     "output_type": "execute_result"
    }
   ],
   "source": [
    "df_train.isnull().sum()"
   ]
  },
  {
   "cell_type": "code",
   "execution_count": 6,
   "metadata": {},
   "outputs": [
    {
     "data": {
      "text/html": [
       "<div>\n",
       "<style scoped>\n",
       "    .dataframe tbody tr th:only-of-type {\n",
       "        vertical-align: middle;\n",
       "    }\n",
       "\n",
       "    .dataframe tbody tr th {\n",
       "        vertical-align: top;\n",
       "    }\n",
       "\n",
       "    .dataframe thead th {\n",
       "        text-align: right;\n",
       "    }\n",
       "</style>\n",
       "<table border=\"1\" class=\"dataframe\">\n",
       "  <thead>\n",
       "    <tr style=\"text-align: right;\">\n",
       "      <th></th>\n",
       "      <th>item_id</th>\n",
       "      <th>user_id</th>\n",
       "      <th>region</th>\n",
       "      <th>city</th>\n",
       "      <th>parent_category_name</th>\n",
       "      <th>category_name</th>\n",
       "      <th>param_1</th>\n",
       "      <th>param_2</th>\n",
       "      <th>param_3</th>\n",
       "      <th>title</th>\n",
       "      <th>description</th>\n",
       "      <th>price</th>\n",
       "      <th>item_seq_number</th>\n",
       "      <th>activation_date</th>\n",
       "      <th>user_type</th>\n",
       "      <th>image</th>\n",
       "      <th>image_top_1</th>\n",
       "      <th>deal_probability</th>\n",
       "    </tr>\n",
       "  </thead>\n",
       "  <tbody>\n",
       "    <tr>\n",
       "      <th>0</th>\n",
       "      <td>b912c3c6a6ad</td>\n",
       "      <td>e00f8ff2eaf9</td>\n",
       "      <td>Свердловская область</td>\n",
       "      <td>Екатеринбург</td>\n",
       "      <td>Личные вещи</td>\n",
       "      <td>Товары для детей и игрушки</td>\n",
       "      <td>Постельные принадлежности</td>\n",
       "      <td>NaN</td>\n",
       "      <td>NaN</td>\n",
       "      <td>Кокоби(кокон для сна)</td>\n",
       "      <td>Кокон для сна малыша,пользовались меньше месяц...</td>\n",
       "      <td>400.0</td>\n",
       "      <td>2</td>\n",
       "      <td>2017-03-28</td>\n",
       "      <td>Private</td>\n",
       "      <td>d10c7e016e03247a3bf2d13348fe959fe6f436c1caf64c...</td>\n",
       "      <td>1008.0</td>\n",
       "      <td>0.12789</td>\n",
       "    </tr>\n",
       "  </tbody>\n",
       "</table>\n",
       "</div>"
      ],
      "text/plain": [
       "        item_id       user_id                region          city  \\\n",
       "0  b912c3c6a6ad  e00f8ff2eaf9  Свердловская область  Екатеринбург   \n",
       "\n",
       "  parent_category_name               category_name                    param_1  \\\n",
       "0          Личные вещи  Товары для детей и игрушки  Постельные принадлежности   \n",
       "\n",
       "  param_2 param_3                  title  \\\n",
       "0     NaN     NaN  Кокоби(кокон для сна)   \n",
       "\n",
       "                                         description  price  item_seq_number  \\\n",
       "0  Кокон для сна малыша,пользовались меньше месяц...  400.0                2   \n",
       "\n",
       "  activation_date user_type  \\\n",
       "0      2017-03-28   Private   \n",
       "\n",
       "                                               image  image_top_1  \\\n",
       "0  d10c7e016e03247a3bf2d13348fe959fe6f436c1caf64c...       1008.0   \n",
       "\n",
       "   deal_probability  \n",
       "0           0.12789  "
      ]
     },
     "execution_count": 6,
     "metadata": {},
     "output_type": "execute_result"
    }
   ],
   "source": [
    "#6544e41a8817\n",
    "df_train.query(\"item_id=='b912c3c6a6ad'\")"
   ]
  },
  {
   "cell_type": "code",
   "execution_count": 7,
   "metadata": {},
   "outputs": [
    {
     "data": {
      "text/html": [
       "<div>\n",
       "<style scoped>\n",
       "    .dataframe tbody tr th:only-of-type {\n",
       "        vertical-align: middle;\n",
       "    }\n",
       "\n",
       "    .dataframe tbody tr th {\n",
       "        vertical-align: top;\n",
       "    }\n",
       "\n",
       "    .dataframe thead th {\n",
       "        text-align: right;\n",
       "    }\n",
       "</style>\n",
       "<table border=\"1\" class=\"dataframe\">\n",
       "  <thead>\n",
       "    <tr style=\"text-align: right;\">\n",
       "      <th></th>\n",
       "      <th>region</th>\n",
       "      <th>city</th>\n",
       "      <th>category_name</th>\n",
       "      <th>parent_category_name</th>\n",
       "      <th>param_1</th>\n",
       "      <th>title</th>\n",
       "      <th>description</th>\n",
       "      <th>price</th>\n",
       "      <th>user_type</th>\n",
       "      <th>activation_date</th>\n",
       "      <th>deal_probability</th>\n",
       "    </tr>\n",
       "  </thead>\n",
       "  <tbody>\n",
       "    <tr>\n",
       "      <th>0</th>\n",
       "      <td>Свердловская область</td>\n",
       "      <td>Екатеринбург</td>\n",
       "      <td>Товары для детей и игрушки</td>\n",
       "      <td>Личные вещи</td>\n",
       "      <td>Постельные принадлежности</td>\n",
       "      <td>Кокоби(кокон для сна)</td>\n",
       "      <td>Кокон для сна малыша,пользовались меньше месяц...</td>\n",
       "      <td>400.0</td>\n",
       "      <td>Private</td>\n",
       "      <td>2017-03-28</td>\n",
       "      <td>0.12789</td>\n",
       "    </tr>\n",
       "    <tr>\n",
       "      <th>1</th>\n",
       "      <td>Самарская область</td>\n",
       "      <td>Самара</td>\n",
       "      <td>Мебель и интерьер</td>\n",
       "      <td>Для дома и дачи</td>\n",
       "      <td>Другое</td>\n",
       "      <td>Стойка для Одежды</td>\n",
       "      <td>Стойка для одежды, под вешалки. С бутика.</td>\n",
       "      <td>3000.0</td>\n",
       "      <td>Private</td>\n",
       "      <td>2017-03-26</td>\n",
       "      <td>0.00000</td>\n",
       "    </tr>\n",
       "    <tr>\n",
       "      <th>2</th>\n",
       "      <td>Ростовская область</td>\n",
       "      <td>Ростов-на-Дону</td>\n",
       "      <td>Аудио и видео</td>\n",
       "      <td>Бытовая электроника</td>\n",
       "      <td>Видео, DVD и Blu-ray плееры</td>\n",
       "      <td>Philips bluray</td>\n",
       "      <td>В хорошем состоянии, домашний кинотеатр с blu ...</td>\n",
       "      <td>4000.0</td>\n",
       "      <td>Private</td>\n",
       "      <td>2017-03-20</td>\n",
       "      <td>0.43177</td>\n",
       "    </tr>\n",
       "    <tr>\n",
       "      <th>3</th>\n",
       "      <td>Татарстан</td>\n",
       "      <td>Набережные Челны</td>\n",
       "      <td>Товары для детей и игрушки</td>\n",
       "      <td>Личные вещи</td>\n",
       "      <td>Автомобильные кресла</td>\n",
       "      <td>Автокресло</td>\n",
       "      <td>Продам кресло от0-25кг</td>\n",
       "      <td>2200.0</td>\n",
       "      <td>Company</td>\n",
       "      <td>2017-03-25</td>\n",
       "      <td>0.80323</td>\n",
       "    </tr>\n",
       "    <tr>\n",
       "      <th>4</th>\n",
       "      <td>Волгоградская область</td>\n",
       "      <td>Волгоград</td>\n",
       "      <td>Автомобили</td>\n",
       "      <td>Транспорт</td>\n",
       "      <td>С пробегом</td>\n",
       "      <td>ВАЗ 2110, 2003</td>\n",
       "      <td>Все вопросы по телефону.</td>\n",
       "      <td>40000.0</td>\n",
       "      <td>Private</td>\n",
       "      <td>2017-03-16</td>\n",
       "      <td>0.20797</td>\n",
       "    </tr>\n",
       "  </tbody>\n",
       "</table>\n",
       "</div>"
      ],
      "text/plain": [
       "                  region              city               category_name  \\\n",
       "0   Свердловская область      Екатеринбург  Товары для детей и игрушки   \n",
       "1      Самарская область            Самара           Мебель и интерьер   \n",
       "2     Ростовская область    Ростов-на-Дону               Аудио и видео   \n",
       "3              Татарстан  Набережные Челны  Товары для детей и игрушки   \n",
       "4  Волгоградская область         Волгоград                  Автомобили   \n",
       "\n",
       "  parent_category_name                      param_1                  title  \\\n",
       "0          Личные вещи    Постельные принадлежности  Кокоби(кокон для сна)   \n",
       "1      Для дома и дачи                       Другое      Стойка для Одежды   \n",
       "2  Бытовая электроника  Видео, DVD и Blu-ray плееры         Philips bluray   \n",
       "3          Личные вещи         Автомобильные кресла             Автокресло   \n",
       "4            Транспорт                   С пробегом         ВАЗ 2110, 2003   \n",
       "\n",
       "                                         description    price user_type  \\\n",
       "0  Кокон для сна малыша,пользовались меньше месяц...    400.0   Private   \n",
       "1          Стойка для одежды, под вешалки. С бутика.   3000.0   Private   \n",
       "2  В хорошем состоянии, домашний кинотеатр с blu ...   4000.0   Private   \n",
       "3                             Продам кресло от0-25кг   2200.0   Company   \n",
       "4                           Все вопросы по телефону.  40000.0   Private   \n",
       "\n",
       "  activation_date  deal_probability  \n",
       "0      2017-03-28           0.12789  \n",
       "1      2017-03-26           0.00000  \n",
       "2      2017-03-20           0.43177  \n",
       "3      2017-03-25           0.80323  \n",
       "4      2017-03-16           0.20797  "
      ]
     },
     "execution_count": 7,
     "metadata": {},
     "output_type": "execute_result"
    }
   ],
   "source": [
    "\n",
    "df_train_=df_train[['region','city','category_name',\n",
    "                    'parent_category_name','param_1','title', \n",
    "                    'description', 'price','user_type','activation_date','deal_probability']]\n",
    "df_train_.head()"
   ]
  },
  {
   "cell_type": "markdown",
   "metadata": {},
   "source": [
    "## Probabilidade média de aparecer na region"
   ]
  },
  {
   "cell_type": "code",
   "execution_count": 8,
   "metadata": {},
   "outputs": [
    {
     "data": {
      "text/html": [
       "<div>\n",
       "<style scoped>\n",
       "    .dataframe tbody tr th:only-of-type {\n",
       "        vertical-align: middle;\n",
       "    }\n",
       "\n",
       "    .dataframe tbody tr th {\n",
       "        vertical-align: top;\n",
       "    }\n",
       "\n",
       "    .dataframe thead th {\n",
       "        text-align: right;\n",
       "    }\n",
       "</style>\n",
       "<table border=\"1\" class=\"dataframe\">\n",
       "  <thead>\n",
       "    <tr style=\"text-align: right;\">\n",
       "      <th></th>\n",
       "      <th>deal_probability</th>\n",
       "    </tr>\n",
       "    <tr>\n",
       "      <th>region</th>\n",
       "      <th></th>\n",
       "    </tr>\n",
       "  </thead>\n",
       "  <tbody>\n",
       "    <tr>\n",
       "      <th>Оренбургская область</th>\n",
       "      <td>0.155921</td>\n",
       "    </tr>\n",
       "    <tr>\n",
       "      <th>Ставропольский край</th>\n",
       "      <td>0.153586</td>\n",
       "    </tr>\n",
       "    <tr>\n",
       "      <th>Башкортостан</th>\n",
       "      <td>0.148859</td>\n",
       "    </tr>\n",
       "    <tr>\n",
       "      <th>Удмуртия</th>\n",
       "      <td>0.148130</td>\n",
       "    </tr>\n",
       "    <tr>\n",
       "      <th>Краснодарский край</th>\n",
       "      <td>0.147066</td>\n",
       "    </tr>\n",
       "    <tr>\n",
       "      <th>Нижегородская область</th>\n",
       "      <td>0.146608</td>\n",
       "    </tr>\n",
       "    <tr>\n",
       "      <th>Саратовская область</th>\n",
       "      <td>0.145991</td>\n",
       "    </tr>\n",
       "    <tr>\n",
       "      <th>Волгоградская область</th>\n",
       "      <td>0.145908</td>\n",
       "    </tr>\n",
       "    <tr>\n",
       "      <th>Белгородская область</th>\n",
       "      <td>0.145603</td>\n",
       "    </tr>\n",
       "    <tr>\n",
       "      <th>Тульская область</th>\n",
       "      <td>0.143882</td>\n",
       "    </tr>\n",
       "    <tr>\n",
       "      <th>Ханты-Мансийский АО</th>\n",
       "      <td>0.143696</td>\n",
       "    </tr>\n",
       "    <tr>\n",
       "      <th>Пермский край</th>\n",
       "      <td>0.143685</td>\n",
       "    </tr>\n",
       "    <tr>\n",
       "      <th>Челябинская область</th>\n",
       "      <td>0.143229</td>\n",
       "    </tr>\n",
       "    <tr>\n",
       "      <th>Татарстан</th>\n",
       "      <td>0.142602</td>\n",
       "    </tr>\n",
       "    <tr>\n",
       "      <th>Воронежская область</th>\n",
       "      <td>0.141007</td>\n",
       "    </tr>\n",
       "    <tr>\n",
       "      <th>Владимирская область</th>\n",
       "      <td>0.140988</td>\n",
       "    </tr>\n",
       "    <tr>\n",
       "      <th>Иркутская область</th>\n",
       "      <td>0.139679</td>\n",
       "    </tr>\n",
       "    <tr>\n",
       "      <th>Самарская область</th>\n",
       "      <td>0.136721</td>\n",
       "    </tr>\n",
       "    <tr>\n",
       "      <th>Алтайский край</th>\n",
       "      <td>0.136257</td>\n",
       "    </tr>\n",
       "    <tr>\n",
       "      <th>Ростовская область</th>\n",
       "      <td>0.135944</td>\n",
       "    </tr>\n",
       "    <tr>\n",
       "      <th>Кемеровская область</th>\n",
       "      <td>0.135480</td>\n",
       "    </tr>\n",
       "    <tr>\n",
       "      <th>Калининградская область</th>\n",
       "      <td>0.131574</td>\n",
       "    </tr>\n",
       "    <tr>\n",
       "      <th>Омская область</th>\n",
       "      <td>0.129185</td>\n",
       "    </tr>\n",
       "    <tr>\n",
       "      <th>Ярославская область</th>\n",
       "      <td>0.128844</td>\n",
       "    </tr>\n",
       "    <tr>\n",
       "      <th>Новосибирская область</th>\n",
       "      <td>0.124689</td>\n",
       "    </tr>\n",
       "    <tr>\n",
       "      <th>Тюменская область</th>\n",
       "      <td>0.124193</td>\n",
       "    </tr>\n",
       "    <tr>\n",
       "      <th>Свердловская область</th>\n",
       "      <td>0.122004</td>\n",
       "    </tr>\n",
       "    <tr>\n",
       "      <th>Красноярский край</th>\n",
       "      <td>0.120357</td>\n",
       "    </tr>\n",
       "  </tbody>\n",
       "</table>\n",
       "</div>"
      ],
      "text/plain": [
       "                         deal_probability\n",
       "region                                   \n",
       "Оренбургская область             0.155921\n",
       "Ставропольский край              0.153586\n",
       "Башкортостан                     0.148859\n",
       "Удмуртия                         0.148130\n",
       "Краснодарский край               0.147066\n",
       "Нижегородская область            0.146608\n",
       "Саратовская область              0.145991\n",
       "Волгоградская область            0.145908\n",
       "Белгородская область             0.145603\n",
       "Тульская область                 0.143882\n",
       "Ханты-Мансийский АО              0.143696\n",
       "Пермский край                    0.143685\n",
       "Челябинская область              0.143229\n",
       "Татарстан                        0.142602\n",
       "Воронежская область              0.141007\n",
       "Владимирская область             0.140988\n",
       "Иркутская область                0.139679\n",
       "Самарская область                0.136721\n",
       "Алтайский край                   0.136257\n",
       "Ростовская область               0.135944\n",
       "Кемеровская область              0.135480\n",
       "Калининградская область          0.131574\n",
       "Омская область                   0.129185\n",
       "Ярославская область              0.128844\n",
       "Новосибирская область            0.124689\n",
       "Тюменская область                0.124193\n",
       "Свердловская область             0.122004\n",
       "Красноярский край                0.120357"
      ]
     },
     "execution_count": 8,
     "metadata": {},
     "output_type": "execute_result"
    }
   ],
   "source": [
    "#6544e41a8817\n",
    "df_train_[['region','deal_probability']].groupby('region').mean().sort_values(by='deal_probability', \n",
    "                                                                             ascending=False)"
   ]
  },
  {
   "cell_type": "code",
   "execution_count": 9,
   "metadata": {},
   "outputs": [],
   "source": [
    "#len(df_train_[df_train_['deal_probability']>=0.67][['deal_probability']].index)"
   ]
  },
  {
   "cell_type": "code",
   "execution_count": 10,
   "metadata": {},
   "outputs": [
    {
     "name": "stdout",
     "output_type": "stream",
     "text": [
      "Qde de rows Qualidade boa: 164795\n",
      "Qde de rows Qualidade media: 67563\n",
      "Qde de rows Qualidade baixa: 1270152\n"
     ]
    }
   ],
   "source": [
    "#Qualidade alta\n",
    "df_train_A=df_train_[df_train_['deal_probability']>=0.67] \n",
    "#Qualidade Media\n",
    "df_train_M=df_train_.query(\"deal_probability>0.33 and deal_probability<=0.66\") \n",
    "#Qualidade Baixa\n",
    "df_train_B=df_train_[df_train_['deal_probability']<=0.33]  \n",
    "\n",
    "print('Qde de rows Qualidade boa:',len(df_train_A.index))\n",
    "print('Qde de rows Qualidade media:',len(df_train_M.index))\n",
    "print('Qde de rows Qualidade baixa:', len(df_train_B.index))"
   ]
  },
  {
   "cell_type": "code",
   "execution_count": 11,
   "metadata": {},
   "outputs": [
    {
     "data": {
      "text/plain": [
       "array([[<matplotlib.axes._subplots.AxesSubplot object at 0x000001A5861FA2B0>]],\n",
       "      dtype=object)"
      ]
     },
     "execution_count": 11,
     "metadata": {},
     "output_type": "execute_result"
    },
    {
     "data": {
      "image/png": "[encoded data removed]",
      "text/plain": [
       "<matplotlib.figure.Figure at 0x1a5861ad240>"
      ]
     },
     "metadata": {},
     "output_type": "display_data"
    }
   ],
   "source": [
    "df_train[['deal_probability']].hist()"
   ]
  },
  {
   "cell_type": "code",
   "execution_count": 12,
   "metadata": {},
   "outputs": [
    {
     "data": {
      "image/png": "[encoded data removed]",
      "text/plain": [
       "<matplotlib.figure.Figure at 0x1a58ca23f28>"
      ]
     },
     "metadata": {},
     "output_type": "display_data"
    }
   ],
   "source": [
    "df = pd.DataFrame({\n",
    "     'length': [1.5, 0.5, 1.2, 0.9, 3],\n",
    "     'width': [0.7, 0.2, 0.15, 0.2, 1.1]\n",
    "     }, index= ['pig', 'rabbit', 'duck', 'chicken', 'horse']) \n",
    "hist = df.hist(bins=3)"
   ]
  },
  {
   "cell_type": "code",
   "execution_count": 13,
   "metadata": {},
   "outputs": [
    {
     "data": {
      "image/png": "[encoded data removed]",
      "text/plain": [
       "<matplotlib.figure.Figure at 0x1a58ca45128>"
      ]
     },
     "metadata": {},
     "output_type": "display_data"
    }
   ],
   "source": [
    "plt.hist(df_train['deal_probability'])\n",
    "#plt.ylabel('Number of Ads')\n",
    "plt.xlabel('Deal probability')\n",
    "#plt.ylabel('Number of Ads')\n",
    "#plt.title('Histogram of IQ')\n",
    "#plt.text(60, .025, r'$\\mu=100,\\ \\sigma=15$')\n",
    "#plt.axis([40, 160, 0, 0.03])\n",
    "plt.grid(True)\n",
    "plt.show()\n"
   ]
  },
  {
   "cell_type": "code",
   "execution_count": null,
   "metadata": {},
   "outputs": [],
   "source": []
  },
  {
   "cell_type": "code",
   "execution_count": 14,
   "metadata": {},
   "outputs": [],
   "source": [
    "#pd.Series([y for x in df_train_A[['description']].values.flatten() for y in x.split()]).value_counts()"
   ]
  },
  {
   "cell_type": "code",
   "execution_count": 15,
   "metadata": {},
   "outputs": [],
   "source": [
    "#Bag of words\n",
    "#df_train_A[['description']].apply(lambda x: x.str.split(expand=True).stack()).stack().value_counts()"
   ]
  },
  {
   "cell_type": "code",
   "execution_count": 16,
   "metadata": {},
   "outputs": [
    {
     "data": {
      "text/plain": [
       "array(['Private', 'Company', 'Shop'], dtype=object)"
      ]
     },
     "execution_count": 16,
     "metadata": {},
     "output_type": "execute_result"
    }
   ],
   "source": [
    "df_train['user_type'].unique()"
   ]
  },
  {
   "cell_type": "code",
   "execution_count": 17,
   "metadata": {},
   "outputs": [],
   "source": [
    "#Conhecendo o dados"
   ]
  },
  {
   "cell_type": "code",
   "execution_count": 18,
   "metadata": {},
   "outputs": [
    {
     "data": {
      "text/plain": [
       "array(['Private', 'Company', 'Shop'], dtype=object)"
      ]
     },
     "execution_count": 18,
     "metadata": {},
     "output_type": "execute_result"
    }
   ],
   "source": [
    "df_train['user_type'].unique()"
   ]
  },
  {
   "cell_type": "code",
   "execution_count": 19,
   "metadata": {},
   "outputs": [
    {
     "data": {
      "text/html": [
       "<div>\n",
       "<style scoped>\n",
       "    .dataframe tbody tr th:only-of-type {\n",
       "        vertical-align: middle;\n",
       "    }\n",
       "\n",
       "    .dataframe tbody tr th {\n",
       "        vertical-align: top;\n",
       "    }\n",
       "\n",
       "    .dataframe thead th {\n",
       "        text-align: right;\n",
       "    }\n",
       "</style>\n",
       "<table border=\"1\" class=\"dataframe\">\n",
       "  <thead>\n",
       "    <tr style=\"text-align: right;\">\n",
       "      <th></th>\n",
       "      <th>title</th>\n",
       "    </tr>\n",
       "    <tr>\n",
       "      <th>user_type</th>\n",
       "      <th></th>\n",
       "    </tr>\n",
       "  </thead>\n",
       "  <tbody>\n",
       "    <tr>\n",
       "      <th>Company</th>\n",
       "      <td>347249</td>\n",
       "    </tr>\n",
       "    <tr>\n",
       "      <th>Private</th>\n",
       "      <td>1075706</td>\n",
       "    </tr>\n",
       "    <tr>\n",
       "      <th>Shop</th>\n",
       "      <td>80469</td>\n",
       "    </tr>\n",
       "  </tbody>\n",
       "</table>\n",
       "</div>"
      ],
      "text/plain": [
       "             title\n",
       "user_type         \n",
       "Company     347249\n",
       "Private    1075706\n",
       "Shop         80469"
      ]
     },
     "execution_count": 19,
     "metadata": {},
     "output_type": "execute_result"
    }
   ],
   "source": [
    "df_train[['user_type','title']].groupby('user_type').count()"
   ]
  },
  {
   "cell_type": "code",
   "execution_count": 36,
   "metadata": {},
   "outputs": [],
   "source": [
    "def plotPie(grp_entity):\n",
    "    dic_entity={}\n",
    "    entities=[]\n",
    "    numbers=[]\n",
    "    for row in grp_entity.itertuples():\n",
    "        entity=row[0]\n",
    "        attribute_value=row[1]\n",
    "        dic_entity[entity]=attribute_value\n",
    "        numbers.append(attribute_value)\n",
    "    entities=list(dic_entity.keys())\n",
    "    \n",
    "    entity_data = {'entity': entities,'number': numbers}\n",
    "    df_ = pd.DataFrame(entity_data, columns = ['entity', 'number'])\n",
    "    \n",
    "\n",
    "    plt.figure(figsize=(16,8))\n",
    "    # plot chart\n",
    "    ax1 = plt.subplot(121, aspect='equal')\n",
    "    df_.plot(kind='pie', y = 'number', ax=ax1,  autopct='%1.1f%%', startangle=90, shadow=False, \n",
    "              labels=df_['entity'], legend = False, fontsize=14, title='Percentual de anúncios por Parent_category_name'\n",
    "             )\n",
    "    ax2 = plt.subplot(122)\n",
    "    plt.axis('off')\n",
    "    \n",
    "    plt.show()\n",
    "    "
   ]
  },
  {
   "cell_type": "code",
   "execution_count": 27,
   "metadata": {},
   "outputs": [
    {
     "data": {
      "image/png": "[encoded data removed]",
      "text/plain": [
       "<matplotlib.figure.Figure at 0x1a58c9fe668>"
      ]
     },
     "metadata": {},
     "output_type": "display_data"
    }
   ],
   "source": [
    "user_type_data = {'user_type': ['Company', 'Private', 'Shop'],\n",
    "        'number': [347249, 1075706, 80469]}\n",
    "df_user_type = pd.DataFrame(user_type_data, columns = ['user_type', 'number'])\n",
    "#df_user_type\n",
    "\n",
    "plt.figure(figsize=(16,8))\n",
    "# plot chart\n",
    "\n",
    "ax1 = plt.subplot(121, aspect='equal')\n",
    "df_user_type.plot(kind='pie', y = 'number', ax=ax1,  autopct='%1.1f%%', startangle=90, shadow=False, \n",
    "          labels=df_user_type['user_type'], legend = False, fontsize=14\n",
    "         )\n",
    "ax2 = plt.subplot(122)\n",
    "\n",
    "plt.axis('off')\n",
    "plt.show()"
   ]
  },
  {
   "cell_type": "code",
   "execution_count": 28,
   "metadata": {
    "scrolled": false
   },
   "outputs": [
    {
     "data": {
      "text/html": [
       "<div>\n",
       "<style scoped>\n",
       "    .dataframe tbody tr th:only-of-type {\n",
       "        vertical-align: middle;\n",
       "    }\n",
       "\n",
       "    .dataframe tbody tr th {\n",
       "        vertical-align: top;\n",
       "    }\n",
       "\n",
       "    .dataframe thead th {\n",
       "        text-align: right;\n",
       "    }\n",
       "</style>\n",
       "<table border=\"1\" class=\"dataframe\">\n",
       "  <thead>\n",
       "    <tr style=\"text-align: right;\">\n",
       "      <th></th>\n",
       "      <th>title</th>\n",
       "    </tr>\n",
       "    <tr>\n",
       "      <th>parent_category_name</th>\n",
       "      <th></th>\n",
       "    </tr>\n",
       "  </thead>\n",
       "  <tbody>\n",
       "    <tr>\n",
       "      <th>Бытовая электроника</th>\n",
       "      <td>173008</td>\n",
       "    </tr>\n",
       "    <tr>\n",
       "      <th>Для бизнеса</th>\n",
       "      <td>18075</td>\n",
       "    </tr>\n",
       "    <tr>\n",
       "      <th>Для дома и дачи</th>\n",
       "      <td>178823</td>\n",
       "    </tr>\n",
       "    <tr>\n",
       "      <th>Животные</th>\n",
       "      <td>52470</td>\n",
       "    </tr>\n",
       "    <tr>\n",
       "      <th>Личные вещи</th>\n",
       "      <td>697623</td>\n",
       "    </tr>\n",
       "    <tr>\n",
       "      <th>Недвижимость</th>\n",
       "      <td>153190</td>\n",
       "    </tr>\n",
       "    <tr>\n",
       "      <th>Транспорт</th>\n",
       "      <td>79839</td>\n",
       "    </tr>\n",
       "    <tr>\n",
       "      <th>Услуги</th>\n",
       "      <td>64385</td>\n",
       "    </tr>\n",
       "    <tr>\n",
       "      <th>Хобби и отдых</th>\n",
       "      <td>86011</td>\n",
       "    </tr>\n",
       "  </tbody>\n",
       "</table>\n",
       "</div>"
      ],
      "text/plain": [
       "                       title\n",
       "parent_category_name        \n",
       "Бытовая электроника   173008\n",
       "Для бизнеса            18075\n",
       "Для дома и дачи       178823\n",
       "Животные               52470\n",
       "Личные вещи           697623\n",
       "Недвижимость          153190\n",
       "Транспорт              79839\n",
       "Услуги                 64385\n",
       "Хобби и отдых          86011"
      ]
     },
     "execution_count": 28,
     "metadata": {},
     "output_type": "execute_result"
    }
   ],
   "source": [
    "grp_parent_cat_name=df_train[['parent_category_name','title']].groupby('parent_category_name').count()\n",
    "grp_parent_cat_name"
   ]
  },
  {
   "cell_type": "code",
   "execution_count": 37,
   "metadata": {},
   "outputs": [
    {
     "data": {
      "image/png": "[encoded data removed]",
      "text/plain": [
       "<matplotlib.figure.Figure at 0x1a59f33d438>"
      ]
     },
     "metadata": {},
     "output_type": "display_data"
    }
   ],
   "source": [
    "plotPie(grp_parent_cat_name)"
   ]
  },
  {
   "cell_type": "code",
   "execution_count": 24,
   "metadata": {},
   "outputs": [
    {
     "data": {
      "image/png": "[encoded data removed]",
      "text/plain": [
       "<matplotlib.figure.Figure at 0x1a58e815b00>"
      ]
     },
     "metadata": {},
     "output_type": "display_data"
    }
   ],
   "source": [
    "user_type_data = {'user_type': ['Бытовая электроника', 'Для бизнеса', 'Для дома и дачи','Животные',\n",
    "                               'Личные вещи','Недвижимость','Транспорт','Услуги','Хобби и отдых'],\n",
    "        'number': [173008, 18075, 178823,52470,697623,153190,79839,64385,86011]}\n",
    "df_user_type = pd.DataFrame(user_type_data, columns = ['user_type', 'number'])\n",
    "#df_user_type\n",
    "\n",
    "plt.figure(figsize=(16,8))\n",
    "# plot chart\n",
    "ax1 = plt.subplot(121, aspect='equal')\n",
    "df_user_type.plot(kind='pie', y = 'number', ax=ax1,  autopct='%1.1f%%', startangle=90, shadow=False, \n",
    "          labels=df_user_type['user_type'], legend = False, fontsize=14\n",
    "         )\n",
    "ax2 = plt.subplot(122)\n",
    "plt.axis('off')\n",
    "plt.show()\n"
   ]
  },
  {
   "cell_type": "code",
   "execution_count": 25,
   "metadata": {},
   "outputs": [
    {
     "data": {
      "text/plain": [
       "28"
      ]
     },
     "execution_count": 25,
     "metadata": {},
     "output_type": "execute_result"
    }
   ],
   "source": [
    "len(df_train['region'].unique())"
   ]
  },
  {
   "cell_type": "code",
   "execution_count": 10,
   "metadata": {},
   "outputs": [
    {
     "data": {
      "text/plain": [
       "1733"
      ]
     },
     "execution_count": 10,
     "metadata": {},
     "output_type": "execute_result"
    }
   ],
   "source": [
    "len(df_train['city'].unique())"
   ]
  },
  {
   "cell_type": "code",
   "execution_count": 15,
   "metadata": {},
   "outputs": [
    {
     "data": {
      "text/plain": [
       "<matplotlib.axes._subplots.AxesSubplot at 0xbb0f52d390>"
      ]
     },
     "execution_count": 15,
     "metadata": {},
     "output_type": "execute_result"
    },
    {
     "data": {
      "image/png": "[encoded data removed]",
      "text/plain": [
       "<matplotlib.figure.Figure at 0xbb0f4d2d30>"
      ]
     },
     "metadata": {},
     "output_type": "display_data"
    }
   ],
   "source": [
    "pd.DataFrame({'Number of cyties': len(df_train['city'].unique())}, index=['Cities']).plot(kind='bar')"
   ]
  },
  {
   "cell_type": "code",
   "execution_count": 11,
   "metadata": {},
   "outputs": [
    {
     "data": {
      "text/plain": [
       "47"
      ]
     },
     "execution_count": 11,
     "metadata": {},
     "output_type": "execute_result"
    }
   ],
   "source": [
    "len(df_train['category_name'].unique())"
   ]
  },
  {
   "cell_type": "code",
   "execution_count": 12,
   "metadata": {},
   "outputs": [
    {
     "data": {
      "text/plain": [
       "9"
      ]
     },
     "execution_count": 12,
     "metadata": {},
     "output_type": "execute_result"
    }
   ],
   "source": [
    "len(df_train['parent_category_name'].unique()) "
   ]
  },
  {
   "cell_type": "code",
   "execution_count": null,
   "metadata": {},
   "outputs": [],
   "source": []
  },
  {
   "cell_type": "code",
   "execution_count": 13,
   "metadata": {},
   "outputs": [
    {
     "data": {
      "text/plain": [
       "18407"
      ]
     },
     "execution_count": 13,
     "metadata": {},
     "output_type": "execute_result"
    }
   ],
   "source": [
    "len(df_train['deal_probability'].unique()) "
   ]
  },
  {
   "cell_type": "code",
   "execution_count": 10,
   "metadata": {},
   "outputs": [],
   "source": [
    "df_params=pd.DataFrame({'param_1': len(df_train['param_1'].unique()), \n",
    "                        'param_2': len(df_train['param_2'].unique()) ,\n",
    "                        'param_3': len(df_train['param_3'].unique())},index=['Param 1 2 3'])"
   ]
  },
  {
   "cell_type": "code",
   "execution_count": 11,
   "metadata": {},
   "outputs": [
    {
     "data": {
      "text/plain": [
       "<matplotlib.axes._subplots.AxesSubplot at 0xbb0cc92ba8>"
      ]
     },
     "execution_count": 11,
     "metadata": {},
     "output_type": "execute_result"
    },
    {
     "data": {
      "image/png": "[encoded data removed]",
      "text/plain": [
       "<matplotlib.figure.Figure at 0xbb0f42ecf8>"
      ]
     },
     "metadata": {},
     "output_type": "display_data"
    }
   ],
   "source": [
    "df_params.plot(kind='bar')"
   ]
  },
  {
   "cell_type": "code",
   "execution_count": 38,
   "metadata": {},
   "outputs": [
    {
     "ename": "ModuleNotFoundError",
     "evalue": "No module named 'SPARQLWrapper'",
     "output_type": "error",
     "traceback": [
      "\u001b[1;31m---------------------------------------------------------------------------\u001b[0m",
      "\u001b[1;31mModuleNotFoundError\u001b[0m                       Traceback (most recent call last)",
      "\u001b[1;32m<ipython-input-38-635ed22fd9e2>\u001b[0m in \u001b[0;36m<module>\u001b[1;34m()\u001b[0m\n\u001b[1;32m----> 1\u001b[1;33m \u001b[1;32mfrom\u001b[0m \u001b[0mSPARQLWrapper\u001b[0m \u001b[1;32mimport\u001b[0m \u001b[0mSPARQLWrapper\u001b[0m\u001b[1;33m,\u001b[0m \u001b[0mJSON\u001b[0m\u001b[1;33m\u001b[0m\u001b[0m\n\u001b[0m\u001b[0;32m      2\u001b[0m \u001b[1;33m\u001b[0m\u001b[0m\n\u001b[0;32m      3\u001b[0m \u001b[0msparql\u001b[0m \u001b[1;33m=\u001b[0m \u001b[0mSPARQLWrapper\u001b[0m\u001b[1;33m(\u001b[0m\u001b[1;34m\"http://dbpedia.org/sparql\"\u001b[0m\u001b[1;33m)\u001b[0m\u001b[1;33m\u001b[0m\u001b[0m\n\u001b[0;32m      4\u001b[0m sparql.setQuery(\"\"\"\n\u001b[0;32m      5\u001b[0m     \u001b[0mPREFIX\u001b[0m \u001b[0mrdfs\u001b[0m\u001b[1;33m:\u001b[0m \u001b[1;33m<\u001b[0m\u001b[0mhttp\u001b[0m\u001b[1;33m:\u001b[0m\u001b[1;33m//\u001b[0m\u001b[0mwww\u001b[0m\u001b[1;33m.\u001b[0m\u001b[0mw3\u001b[0m\u001b[1;33m.\u001b[0m\u001b[0morg\u001b[0m\u001b[1;33m/\u001b[0m\u001b[1;36m2000\u001b[0m\u001b[1;33m/\u001b[0m\u001b[1;36m0\u001b[0m\u001b[1;36m1\u001b[0m\u001b[1;33m/\u001b[0m\u001b[0mrdf\u001b[0m\u001b[1;33m-\u001b[0m\u001b[0mschema\u001b[0m\u001b[1;31m#>\u001b[0m\u001b[1;33m\u001b[0m\u001b[0m\n",
      "\u001b[1;31mModuleNotFoundError\u001b[0m: No module named 'SPARQLWrapper'"
     ]
    }
   ],
   "source": [
    "from SPARQLWrapper import SPARQLWrapper, JSON\n",
    "\n",
    "sparql = SPARQLWrapper(\"http://dbpedia.org/sparql\")\n",
    "sparql.setQuery(\"\"\"\n",
    "    PREFIX rdfs: <http://www.w3.org/2000/01/rdf-schema#>\n",
    "    SELECT ?label\n",
    "    WHERE { <http://dbpedia.org/resource/Asturias> rdfs:label ?label }\n",
    "\"\"\")\n",
    "sparql.setReturnFormat(JSON)\n",
    "results = sparql.query().convert()\n",
    "\n",
    "for result in results[\"results\"][\"bindings\"]:\n",
    "    print(result[\"label\"][\"value\"])"
   ]
  },
  {
   "cell_type": "code",
   "execution_count": 14,
   "metadata": {},
   "outputs": [
    {
     "data": {
      "text/plain": [
       "372"
      ]
     },
     "execution_count": 14,
     "metadata": {},
     "output_type": "execute_result"
    }
   ],
   "source": [
    "len(df_train['param_1'].unique()) "
   ]
  },
  {
   "cell_type": "code",
   "execution_count": 15,
   "metadata": {},
   "outputs": [
    {
     "data": {
      "text/plain": [
       "272"
      ]
     },
     "execution_count": 15,
     "metadata": {},
     "output_type": "execute_result"
    }
   ],
   "source": [
    "len(df_train['param_2'].unique())"
   ]
  },
  {
   "cell_type": "code",
   "execution_count": 16,
   "metadata": {},
   "outputs": [
    {
     "data": {
      "text/plain": [
       "1220"
      ]
     },
     "execution_count": 16,
     "metadata": {},
     "output_type": "execute_result"
    }
   ],
   "source": [
    "len(df_train['param_3'].unique())"
   ]
  },
  {
   "cell_type": "code",
   "execution_count": 17,
   "metadata": {},
   "outputs": [],
   "source": [
    "#Test"
   ]
  },
  {
   "cell_type": "code",
   "execution_count": 18,
   "metadata": {},
   "outputs": [
    {
     "name": "stdout",
     "output_type": "stream",
     "text": [
      "Test Size= 508438\n"
     ]
    },
    {
     "data": {
      "text/html": [
       "<div>\n",
       "<style scoped>\n",
       "    .dataframe tbody tr th:only-of-type {\n",
       "        vertical-align: middle;\n",
       "    }\n",
       "\n",
       "    .dataframe tbody tr th {\n",
       "        vertical-align: top;\n",
       "    }\n",
       "\n",
       "    .dataframe thead th {\n",
       "        text-align: right;\n",
       "    }\n",
       "</style>\n",
       "<table border=\"1\" class=\"dataframe\">\n",
       "  <thead>\n",
       "    <tr style=\"text-align: right;\">\n",
       "      <th></th>\n",
       "      <th>item_id</th>\n",
       "      <th>user_id</th>\n",
       "      <th>region</th>\n",
       "      <th>city</th>\n",
       "      <th>parent_category_name</th>\n",
       "      <th>category_name</th>\n",
       "      <th>param_1</th>\n",
       "      <th>param_2</th>\n",
       "      <th>param_3</th>\n",
       "      <th>title</th>\n",
       "      <th>description</th>\n",
       "      <th>price</th>\n",
       "      <th>item_seq_number</th>\n",
       "      <th>activation_date</th>\n",
       "      <th>user_type</th>\n",
       "      <th>image</th>\n",
       "      <th>image_top_1</th>\n",
       "    </tr>\n",
       "  </thead>\n",
       "  <tbody>\n",
       "    <tr>\n",
       "      <th>0</th>\n",
       "      <td>6544e41a8817</td>\n",
       "      <td>dbe73ad6e4b5</td>\n",
       "      <td>Волгоградская область</td>\n",
       "      <td>Волгоград</td>\n",
       "      <td>Личные вещи</td>\n",
       "      <td>Детская одежда и обувь</td>\n",
       "      <td>Для мальчиков</td>\n",
       "      <td>Обувь</td>\n",
       "      <td>25</td>\n",
       "      <td>Отдам бесплатно</td>\n",
       "      <td>На ангарском</td>\n",
       "      <td>NaN</td>\n",
       "      <td>66</td>\n",
       "      <td>2017-04-18</td>\n",
       "      <td>Private</td>\n",
       "      <td>a8b57acb5ab304f9c331ac7a074219aed4d349d8aef386...</td>\n",
       "      <td>2020.0</td>\n",
       "    </tr>\n",
       "  </tbody>\n",
       "</table>\n",
       "</div>"
      ],
      "text/plain": [
       "        item_id       user_id                 region       city  \\\n",
       "0  6544e41a8817  dbe73ad6e4b5  Волгоградская область  Волгоград   \n",
       "\n",
       "  parent_category_name           category_name        param_1 param_2 param_3  \\\n",
       "0          Личные вещи  Детская одежда и обувь  Для мальчиков   Обувь      25   \n",
       "\n",
       "             title   description  price  item_seq_number activation_date  \\\n",
       "0  Отдам бесплатно  На ангарском    NaN               66      2017-04-18   \n",
       "\n",
       "  user_type                                              image  image_top_1  \n",
       "0   Private  a8b57acb5ab304f9c331ac7a074219aed4d349d8aef386...       2020.0  "
      ]
     },
     "execution_count": 18,
     "metadata": {},
     "output_type": "execute_result"
    }
   ],
   "source": [
    "df_test=pd.read_csv('test.csv.zip', compression='zip')\n",
    "print('Test Size=', len(df_test.index))\n",
    "df_test.head(1)"
   ]
  },
  {
   "cell_type": "code",
   "execution_count": 19,
   "metadata": {},
   "outputs": [
    {
     "name": "stdout",
     "output_type": "stream",
     "text": [
      "Sample submission Size= 508438\n"
     ]
    },
    {
     "data": {
      "text/html": [
       "<div>\n",
       "<style scoped>\n",
       "    .dataframe tbody tr th:only-of-type {\n",
       "        vertical-align: middle;\n",
       "    }\n",
       "\n",
       "    .dataframe tbody tr th {\n",
       "        vertical-align: top;\n",
       "    }\n",
       "\n",
       "    .dataframe thead th {\n",
       "        text-align: right;\n",
       "    }\n",
       "</style>\n",
       "<table border=\"1\" class=\"dataframe\">\n",
       "  <thead>\n",
       "    <tr style=\"text-align: right;\">\n",
       "      <th></th>\n",
       "      <th>item_id</th>\n",
       "      <th>deal_probability</th>\n",
       "    </tr>\n",
       "  </thead>\n",
       "  <tbody>\n",
       "    <tr>\n",
       "      <th>0</th>\n",
       "      <td>6544e41a8817</td>\n",
       "      <td>0.5</td>\n",
       "    </tr>\n",
       "    <tr>\n",
       "      <th>1</th>\n",
       "      <td>65b9484d670f</td>\n",
       "      <td>0.5</td>\n",
       "    </tr>\n",
       "  </tbody>\n",
       "</table>\n",
       "</div>"
      ],
      "text/plain": [
       "        item_id  deal_probability\n",
       "0  6544e41a8817               0.5\n",
       "1  65b9484d670f               0.5"
      ]
     },
     "execution_count": 19,
     "metadata": {},
     "output_type": "execute_result"
    }
   ],
   "source": [
    "#sample_submission\n",
    "df_sample_submission=pd.read_csv('sample_submission.csv')\n",
    "print('Sample submission Size=', len(df_sample_submission.index))\n",
    "df_sample_submission.head(2)"
   ]
  },
  {
   "cell_type": "code",
   "execution_count": 28,
   "metadata": {},
   "outputs": [
    {
     "data": {
      "text/plain": [
       "1"
      ]
     },
     "execution_count": 28,
     "metadata": {},
     "output_type": "execute_result"
    }
   ],
   "source": [
    "len(df_sample_submission['deal_probability'].unique())"
   ]
  },
  {
   "cell_type": "code",
   "execution_count": 30,
   "metadata": {},
   "outputs": [
    {
     "data": {
      "text/html": [
       "<div>\n",
       "<style scoped>\n",
       "    .dataframe tbody tr th:only-of-type {\n",
       "        vertical-align: middle;\n",
       "    }\n",
       "\n",
       "    .dataframe tbody tr th {\n",
       "        vertical-align: top;\n",
       "    }\n",
       "\n",
       "    .dataframe thead th {\n",
       "        text-align: right;\n",
       "    }\n",
       "</style>\n",
       "<table border=\"1\" class=\"dataframe\">\n",
       "  <thead>\n",
       "    <tr style=\"text-align: right;\">\n",
       "      <th></th>\n",
       "      <th>item_id</th>\n",
       "      <th>deal_probability</th>\n",
       "    </tr>\n",
       "  </thead>\n",
       "  <tbody>\n",
       "    <tr>\n",
       "      <th>0</th>\n",
       "      <td>6544e41a8817</td>\n",
       "      <td>0.5</td>\n",
       "    </tr>\n",
       "  </tbody>\n",
       "</table>\n",
       "</div>"
      ],
      "text/plain": [
       "        item_id  deal_probability\n",
       "0  6544e41a8817               0.5"
      ]
     },
     "execution_count": 30,
     "metadata": {},
     "output_type": "execute_result"
    }
   ],
   "source": [
    "df_sample_submission.query(\"item_id=='6544e41a8817'\")"
   ]
  },
  {
   "cell_type": "code",
   "execution_count": 21,
   "metadata": {},
   "outputs": [
    {
     "data": {
      "text/html": [
       "<div>\n",
       "<style scoped>\n",
       "    .dataframe tbody tr th:only-of-type {\n",
       "        vertical-align: middle;\n",
       "    }\n",
       "\n",
       "    .dataframe tbody tr th {\n",
       "        vertical-align: top;\n",
       "    }\n",
       "\n",
       "    .dataframe thead th {\n",
       "        text-align: right;\n",
       "    }\n",
       "</style>\n",
       "<table border=\"1\" class=\"dataframe\">\n",
       "  <thead>\n",
       "    <tr style=\"text-align: right;\">\n",
       "      <th></th>\n",
       "      <th>item_id</th>\n",
       "      <th>activation_date</th>\n",
       "      <th>date_from</th>\n",
       "      <th>date_to</th>\n",
       "    </tr>\n",
       "  </thead>\n",
       "  <tbody>\n",
       "    <tr>\n",
       "      <th>0</th>\n",
       "      <td>8f5caef7afb0</td>\n",
       "      <td>2017-02-14</td>\n",
       "      <td>2017-03-15</td>\n",
       "      <td>2017-03-16</td>\n",
       "    </tr>\n",
       "  </tbody>\n",
       "</table>\n",
       "</div>"
      ],
      "text/plain": [
       "        item_id activation_date   date_from     date_to\n",
       "0  8f5caef7afb0      2017-02-14  2017-03-15  2017-03-16"
      ]
     },
     "execution_count": 21,
     "metadata": {},
     "output_type": "execute_result"
    }
   ],
   "source": [
    "#periods_train\n",
    "df_periods_train=pd.read_csv('periods_train.csv.zip', compression='zip')\n",
    "df_periods_train.head(1)"
   ]
  },
  {
   "cell_type": "code",
   "execution_count": 23,
   "metadata": {},
   "outputs": [
    {
     "data": {
      "text/html": [
       "<div>\n",
       "<style scoped>\n",
       "    .dataframe tbody tr th:only-of-type {\n",
       "        vertical-align: middle;\n",
       "    }\n",
       "\n",
       "    .dataframe tbody tr th {\n",
       "        vertical-align: top;\n",
       "    }\n",
       "\n",
       "    .dataframe thead th {\n",
       "        text-align: right;\n",
       "    }\n",
       "</style>\n",
       "<table border=\"1\" class=\"dataframe\">\n",
       "  <thead>\n",
       "    <tr style=\"text-align: right;\">\n",
       "      <th></th>\n",
       "      <th>item_id</th>\n",
       "      <th>activation_date</th>\n",
       "      <th>date_from</th>\n",
       "      <th>date_to</th>\n",
       "    </tr>\n",
       "  </thead>\n",
       "  <tbody>\n",
       "    <tr>\n",
       "      <th>0</th>\n",
       "      <td>f3a62a713278</td>\n",
       "      <td>2017-03-13</td>\n",
       "      <td>2017-04-12</td>\n",
       "      <td>2017-04-12</td>\n",
       "    </tr>\n",
       "  </tbody>\n",
       "</table>\n",
       "</div>"
      ],
      "text/plain": [
       "        item_id activation_date   date_from     date_to\n",
       "0  f3a62a713278      2017-03-13  2017-04-12  2017-04-12"
      ]
     },
     "execution_count": 23,
     "metadata": {},
     "output_type": "execute_result"
    }
   ],
   "source": [
    "df_periods_test=pd.read_csv('periods_test.csv.zip', compression='zip')\n",
    "df_periods_test.head(1)"
   ]
  },
  {
   "cell_type": "code",
   "execution_count": null,
   "metadata": {},
   "outputs": [],
   "source": [
    "#"
   ]
  },
  {
   "cell_type": "code",
   "execution_count": 24,
   "metadata": {},
   "outputs": [
    {
     "data": {
      "text/html": [
       "<div>\n",
       "<style scoped>\n",
       "    .dataframe tbody tr th:only-of-type {\n",
       "        vertical-align: middle;\n",
       "    }\n",
       "\n",
       "    .dataframe tbody tr th {\n",
       "        vertical-align: top;\n",
       "    }\n",
       "\n",
       "    .dataframe thead th {\n",
       "        text-align: right;\n",
       "    }\n",
       "</style>\n",
       "<table border=\"1\" class=\"dataframe\">\n",
       "  <thead>\n",
       "    <tr style=\"text-align: right;\">\n",
       "      <th></th>\n",
       "      <th>item_id</th>\n",
       "      <th>user_id</th>\n",
       "      <th>region</th>\n",
       "      <th>city</th>\n",
       "      <th>parent_category_name</th>\n",
       "      <th>category_name</th>\n",
       "      <th>param_1</th>\n",
       "      <th>param_2</th>\n",
       "      <th>param_3</th>\n",
       "      <th>title</th>\n",
       "      <th>description</th>\n",
       "      <th>price</th>\n",
       "      <th>item_seq_number</th>\n",
       "      <th>activation_date</th>\n",
       "      <th>user_type</th>\n",
       "    </tr>\n",
       "  </thead>\n",
       "  <tbody>\n",
       "    <tr>\n",
       "      <th>0</th>\n",
       "      <td>70d6342079ef</td>\n",
       "      <td>11d4c04d8c51</td>\n",
       "      <td>Нижегородская область</td>\n",
       "      <td>Нижний Новгород</td>\n",
       "      <td>Хобби и отдых</td>\n",
       "      <td>Книги и журналы</td>\n",
       "      <td>Книги</td>\n",
       "      <td>NaN</td>\n",
       "      <td>NaN</td>\n",
       "      <td>Детская знциклопедия</td>\n",
       "      <td>детская энциклопедия,10 томов, в книге 630 стр...</td>\n",
       "      <td>200.0</td>\n",
       "      <td>20.0</td>\n",
       "      <td>2017-03-15</td>\n",
       "      <td>Private</td>\n",
       "    </tr>\n",
       "    <tr>\n",
       "      <th>1</th>\n",
       "      <td>97cf505710e1</td>\n",
       "      <td>d7068c60b2c6</td>\n",
       "      <td>Воронежская область</td>\n",
       "      <td>Воронеж</td>\n",
       "      <td>Недвижимость</td>\n",
       "      <td>Гаражи и машиноместа</td>\n",
       "      <td>Продам</td>\n",
       "      <td>Гараж</td>\n",
       "      <td>Кирпичный</td>\n",
       "      <td>Гараж, &gt; 30 м²</td>\n",
       "      <td>Продается ГАРАЖ в ПГСК Алмаз/\\nУдобный въезд, ...</td>\n",
       "      <td>590000.0</td>\n",
       "      <td>23.0</td>\n",
       "      <td>2017-03-27</td>\n",
       "      <td>Private</td>\n",
       "    </tr>\n",
       "    <tr>\n",
       "      <th>2</th>\n",
       "      <td>6a93a31a945d</td>\n",
       "      <td>755c88999bc7</td>\n",
       "      <td>Нижегородская область</td>\n",
       "      <td>Нижний Новгород</td>\n",
       "      <td>Недвижимость</td>\n",
       "      <td>Коммерческая недвижимость</td>\n",
       "      <td>Сдам</td>\n",
       "      <td>Торговое помещение</td>\n",
       "      <td>NaN</td>\n",
       "      <td>Торговое помещение, 50-5000 м²</td>\n",
       "      <td>Сдаем в аренду лучшие торговые помещения Н.Нов...</td>\n",
       "      <td>100000.0</td>\n",
       "      <td>4.0</td>\n",
       "      <td>2017-03-15</td>\n",
       "      <td>Private</td>\n",
       "    </tr>\n",
       "    <tr>\n",
       "      <th>3</th>\n",
       "      <td>050cade37667</td>\n",
       "      <td>3d7fb2abdbbc</td>\n",
       "      <td>Башкортостан</td>\n",
       "      <td>Стерлитамак</td>\n",
       "      <td>Бытовая электроника</td>\n",
       "      <td>Телефоны</td>\n",
       "      <td>Аксессуары</td>\n",
       "      <td>Аккумуляторы</td>\n",
       "      <td>NaN</td>\n",
       "      <td>Аккумулятор на 5s / 5c</td>\n",
       "      <td>продам  батарею на iphone 5s , 5с</td>\n",
       "      <td>750.0</td>\n",
       "      <td>157.0</td>\n",
       "      <td>2017-03-15</td>\n",
       "      <td>Company</td>\n",
       "    </tr>\n",
       "    <tr>\n",
       "      <th>4</th>\n",
       "      <td>2935e85aa40b</td>\n",
       "      <td>fc1be1a809d1</td>\n",
       "      <td>Татарстан</td>\n",
       "      <td>Казань</td>\n",
       "      <td>Для дома и дачи</td>\n",
       "      <td>Ремонт и строительство</td>\n",
       "      <td>Камины и обогреватели</td>\n",
       "      <td>NaN</td>\n",
       "      <td>NaN</td>\n",
       "      <td>Заглушки, дверцы, плита</td>\n",
       "      <td>Всё для печи: плита, заглушка, дверцы- всё нов...</td>\n",
       "      <td>3900.0</td>\n",
       "      <td>27.0</td>\n",
       "      <td>2017-03-15</td>\n",
       "      <td>Private</td>\n",
       "    </tr>\n",
       "    <tr>\n",
       "      <th>5</th>\n",
       "      <td>deb7355cbd7e</td>\n",
       "      <td>7fe1e284ccff</td>\n",
       "      <td>Саратовская область</td>\n",
       "      <td>Вольск</td>\n",
       "      <td>Для дома и дачи</td>\n",
       "      <td>Ремонт и строительство</td>\n",
       "      <td>Инструменты</td>\n",
       "      <td>NaN</td>\n",
       "      <td>NaN</td>\n",
       "      <td>Советская дрель</td>\n",
       "      <td>Продам советскую дрель в хорошем состоянии . П...</td>\n",
       "      <td>1000.0</td>\n",
       "      <td>44.0</td>\n",
       "      <td>2017-03-15</td>\n",
       "      <td>Private</td>\n",
       "    </tr>\n",
       "  </tbody>\n",
       "</table>\n",
       "</div>"
      ],
      "text/plain": [
       "        item_id       user_id                 region             city  \\\n",
       "0  70d6342079ef  11d4c04d8c51  Нижегородская область  Нижний Новгород   \n",
       "1  97cf505710e1  d7068c60b2c6    Воронежская область          Воронеж   \n",
       "2  6a93a31a945d  755c88999bc7  Нижегородская область  Нижний Новгород   \n",
       "3  050cade37667  3d7fb2abdbbc           Башкортостан      Стерлитамак   \n",
       "4  2935e85aa40b  fc1be1a809d1              Татарстан           Казань   \n",
       "5  deb7355cbd7e  7fe1e284ccff    Саратовская область           Вольск   \n",
       "\n",
       "  parent_category_name              category_name                param_1  \\\n",
       "0        Хобби и отдых            Книги и журналы                  Книги   \n",
       "1         Недвижимость       Гаражи и машиноместа                 Продам   \n",
       "2         Недвижимость  Коммерческая недвижимость                   Сдам   \n",
       "3  Бытовая электроника                   Телефоны             Аксессуары   \n",
       "4      Для дома и дачи     Ремонт и строительство  Камины и обогреватели   \n",
       "5      Для дома и дачи     Ремонт и строительство            Инструменты   \n",
       "\n",
       "              param_2    param_3                           title  \\\n",
       "0                 NaN        NaN            Детская знциклопедия   \n",
       "1               Гараж  Кирпичный                  Гараж, > 30 м²   \n",
       "2  Торговое помещение        NaN  Торговое помещение, 50-5000 м²   \n",
       "3        Аккумуляторы        NaN          Аккумулятор на 5s / 5c   \n",
       "4                 NaN        NaN         Заглушки, дверцы, плита   \n",
       "5                 NaN        NaN                 Советская дрель   \n",
       "\n",
       "                                         description     price  \\\n",
       "0  детская энциклопедия,10 томов, в книге 630 стр...     200.0   \n",
       "1  Продается ГАРАЖ в ПГСК Алмаз/\\nУдобный въезд, ...  590000.0   \n",
       "2  Сдаем в аренду лучшие торговые помещения Н.Нов...  100000.0   \n",
       "3                  продам  батарею на iphone 5s , 5с     750.0   \n",
       "4  Всё для печи: плита, заглушка, дверцы- всё нов...    3900.0   \n",
       "5  Продам советскую дрель в хорошем состоянии . П...    1000.0   \n",
       "\n",
       "   item_seq_number activation_date user_type  \n",
       "0             20.0      2017-03-15   Private  \n",
       "1             23.0      2017-03-27   Private  \n",
       "2              4.0      2017-03-15   Private  \n",
       "3            157.0      2017-03-15   Company  \n",
       "4             27.0      2017-03-15   Private  \n",
       "5             44.0      2017-03-15   Private  "
      ]
     },
     "execution_count": 24,
     "metadata": {},
     "output_type": "execute_result"
    }
   ],
   "source": [
    "#periods_train\n",
    "df_train_active=pd.read_csv('train_active.csv.zip', compression='zip', nrows=150000)\n",
    "df_train_active.head(6)"
   ]
  },
  {
   "cell_type": "code",
   "execution_count": 25,
   "metadata": {},
   "outputs": [
    {
     "data": {
      "text/html": [
       "<div>\n",
       "<style scoped>\n",
       "    .dataframe tbody tr th:only-of-type {\n",
       "        vertical-align: middle;\n",
       "    }\n",
       "\n",
       "    .dataframe tbody tr th {\n",
       "        vertical-align: top;\n",
       "    }\n",
       "\n",
       "    .dataframe thead th {\n",
       "        text-align: right;\n",
       "    }\n",
       "</style>\n",
       "<table border=\"1\" class=\"dataframe\">\n",
       "  <thead>\n",
       "    <tr style=\"text-align: right;\">\n",
       "      <th></th>\n",
       "      <th>item_id</th>\n",
       "      <th>user_id</th>\n",
       "      <th>region</th>\n",
       "      <th>city</th>\n",
       "      <th>parent_category_name</th>\n",
       "      <th>category_name</th>\n",
       "      <th>param_1</th>\n",
       "      <th>param_2</th>\n",
       "      <th>param_3</th>\n",
       "      <th>title</th>\n",
       "      <th>description</th>\n",
       "      <th>price</th>\n",
       "      <th>item_seq_number</th>\n",
       "      <th>activation_date</th>\n",
       "      <th>user_type</th>\n",
       "    </tr>\n",
       "  </thead>\n",
       "  <tbody>\n",
       "  </tbody>\n",
       "</table>\n",
       "</div>"
      ],
      "text/plain": [
       "Empty DataFrame\n",
       "Columns: [item_id, user_id, region, city, parent_category_name, category_name, param_1, param_2, param_3, title, description, price, item_seq_number, activation_date, user_type]\n",
       "Index: []"
      ]
     },
     "execution_count": 25,
     "metadata": {},
     "output_type": "execute_result"
    }
   ],
   "source": [
    "df_train_active.query(\"item_id=='b912c3c6a6ad'\")"
   ]
  },
  {
   "cell_type": "code",
   "execution_count": null,
   "metadata": {},
   "outputs": [],
   "source": []
  },
  {
   "cell_type": "code",
   "execution_count": 17,
   "metadata": {},
   "outputs": [
    {
     "data": {
      "text/plain": [
       "array([[ 1.,  0.,  0.,  0., 33.],\n",
       "       [ 0.,  1.,  0.,  0., 12.],\n",
       "       [ 0.,  0.,  0.,  1., 18.],\n",
       "       [ 0.,  0.,  1.,  0., 18.]])"
      ]
     },
     "execution_count": 17,
     "metadata": {},
     "output_type": "execute_result"
    }
   ],
   "source": [
    "measurements = [\n",
    "     {'city': 'Dubai', 'temperature': 33.},\n",
    "     {'city': 'London', 'temperature': 12.},\n",
    "     {'city': 'San Francisco', 'temperature': 18.},\n",
    "     {'city': 'Paris', 'temperature': 18.},]\n",
    "\n",
    "from sklearn.feature_extraction import DictVectorizer\n",
    "vec = DictVectorizer()\n",
    "\n",
    "vec.fit_transform(measurements).toarray()"
   ]
  },
  {
   "cell_type": "code",
   "execution_count": 18,
   "metadata": {
    "scrolled": true
   },
   "outputs": [
    {
     "data": {
      "text/plain": [
       "['city=Dubai',\n",
       " 'city=London',\n",
       " 'city=Paris',\n",
       " 'city=San Francisco',\n",
       " 'temperature']"
      ]
     },
     "execution_count": 18,
     "metadata": {},
     "output_type": "execute_result"
    }
   ],
   "source": [
    "vec.get_feature_names()\n"
   ]
  },
  {
   "cell_type": "code",
   "execution_count": 19,
   "metadata": {},
   "outputs": [],
   "source": [
    "from sklearn.feature_extraction.text import CountVectorizer"
   ]
  },
  {
   "cell_type": "code",
   "execution_count": 20,
   "metadata": {},
   "outputs": [
    {
     "data": {
      "text/plain": [
       "CountVectorizer(analyzer='word', binary=False, decode_error='strict',\n",
       "        dtype=<class 'numpy.int64'>, encoding='utf-8', input='content',\n",
       "        lowercase=True, max_df=1.0, max_features=None, min_df=1,\n",
       "        ngram_range=(1, 1), preprocessor=None, stop_words=None,\n",
       "        strip_accents=None, token_pattern='(?u)\\\\b\\\\w\\\\w+\\\\b',\n",
       "        tokenizer=None, vocabulary=None)"
      ]
     },
     "execution_count": 20,
     "metadata": {},
     "output_type": "execute_result"
    }
   ],
   "source": [
    "vectorizer = CountVectorizer()\n",
    "vectorizer  "
   ]
  },
  {
   "cell_type": "code",
   "execution_count": 28,
   "metadata": {},
   "outputs": [
    {
     "data": {
      "text/html": [
       "<div>\n",
       "<style scoped>\n",
       "    .dataframe tbody tr th:only-of-type {\n",
       "        vertical-align: middle;\n",
       "    }\n",
       "\n",
       "    .dataframe tbody tr th {\n",
       "        vertical-align: top;\n",
       "    }\n",
       "\n",
       "    .dataframe thead th {\n",
       "        text-align: right;\n",
       "    }\n",
       "</style>\n",
       "<table border=\"1\" class=\"dataframe\">\n",
       "  <thead>\n",
       "    <tr style=\"text-align: right;\">\n",
       "      <th></th>\n",
       "      <th>description</th>\n",
       "    </tr>\n",
       "  </thead>\n",
       "  <tbody>\n",
       "    <tr>\n",
       "      <th>2</th>\n",
       "      <td>В хорошем состоянии, домашний кинотеатр с blu ...</td>\n",
       "    </tr>\n",
       "  </tbody>\n",
       "</table>\n",
       "</div>"
      ],
      "text/plain": [
       "                                         description\n",
       "2  В хорошем состоянии, домашний кинотеатр с blu ..."
      ]
     },
     "execution_count": 28,
     "metadata": {},
     "output_type": "execute_result"
    }
   ],
   "source": [
    "df_train_M_=df_train_M[['description']].fillna('')\n",
    "df_train_M_.head(1)"
   ]
  },
  {
   "cell_type": "code",
   "execution_count": 53,
   "metadata": {},
   "outputs": [],
   "source": [
    "\"\"\" corpus = ['This is the first document.',\n",
    "     'This is the second second document.',\n",
    "     'And the third one.',\n",
    "     'Is this the first document?', ]\n",
    "\"\"\"\n",
    "#corpus=df_train_M_['description'].values\n",
    "corpus=list(df_train_M_['description'].values)"
   ]
  },
  {
   "cell_type": "code",
   "execution_count": 54,
   "metadata": {},
   "outputs": [],
   "source": [
    "analyze = vectorizer.build_analyzer()"
   ]
  },
  {
   "cell_type": "code",
   "execution_count": 55,
   "metadata": {},
   "outputs": [
    {
     "data": {
      "text/plain": [
       "<67563x112924 sparse matrix of type '<class 'numpy.int64'>'\n",
       "\twith 1425071 stored elements in Compressed Sparse Row format>"
      ]
     },
     "execution_count": 55,
     "metadata": {},
     "output_type": "execute_result"
    }
   ],
   "source": [
    "X = vectorizer.fit_transform(corpus)\n",
    "X    "
   ]
  },
  {
   "cell_type": "code",
   "execution_count": 56,
   "metadata": {},
   "outputs": [
    {
     "ename": "MemoryError",
     "evalue": "",
     "output_type": "error",
     "traceback": [
      "\u001b[1;31m---------------------------------------------------------------------------\u001b[0m",
      "\u001b[1;31mMemoryError\u001b[0m                               Traceback (most recent call last)",
      "\u001b[1;32m<ipython-input-56-5238e41eaf4a>\u001b[0m in \u001b[0;36m<module>\u001b[1;34m()\u001b[0m\n\u001b[1;32m----> 1\u001b[1;33m \u001b[0mX\u001b[0m\u001b[1;33m.\u001b[0m\u001b[0mtoarray\u001b[0m\u001b[1;33m(\u001b[0m\u001b[1;33m)\u001b[0m\u001b[1;33m\u001b[0m\u001b[0m\n\u001b[0m",
      "\u001b[1;32mC:\\Labo\\Anaconda\\lib\\site-packages\\scipy\\sparse\\compressed.py\u001b[0m in \u001b[0;36mtoarray\u001b[1;34m(self, order, out)\u001b[0m\n\u001b[0;32m    941\u001b[0m         \u001b[1;32mif\u001b[0m \u001b[0mout\u001b[0m \u001b[1;32mis\u001b[0m \u001b[1;32mNone\u001b[0m \u001b[1;32mand\u001b[0m \u001b[0morder\u001b[0m \u001b[1;32mis\u001b[0m \u001b[1;32mNone\u001b[0m\u001b[1;33m:\u001b[0m\u001b[1;33m\u001b[0m\u001b[0m\n\u001b[0;32m    942\u001b[0m             \u001b[0morder\u001b[0m \u001b[1;33m=\u001b[0m \u001b[0mself\u001b[0m\u001b[1;33m.\u001b[0m\u001b[0m_swap\u001b[0m\u001b[1;33m(\u001b[0m\u001b[1;34m'cf'\u001b[0m\u001b[1;33m)\u001b[0m\u001b[1;33m[\u001b[0m\u001b[1;36m0\u001b[0m\u001b[1;33m]\u001b[0m\u001b[1;33m\u001b[0m\u001b[0m\n\u001b[1;32m--> 943\u001b[1;33m         \u001b[0mout\u001b[0m \u001b[1;33m=\u001b[0m \u001b[0mself\u001b[0m\u001b[1;33m.\u001b[0m\u001b[0m_process_toarray_args\u001b[0m\u001b[1;33m(\u001b[0m\u001b[0morder\u001b[0m\u001b[1;33m,\u001b[0m \u001b[0mout\u001b[0m\u001b[1;33m)\u001b[0m\u001b[1;33m\u001b[0m\u001b[0m\n\u001b[0m\u001b[0;32m    944\u001b[0m         \u001b[1;32mif\u001b[0m \u001b[1;32mnot\u001b[0m \u001b[1;33m(\u001b[0m\u001b[0mout\u001b[0m\u001b[1;33m.\u001b[0m\u001b[0mflags\u001b[0m\u001b[1;33m.\u001b[0m\u001b[0mc_contiguous\u001b[0m \u001b[1;32mor\u001b[0m \u001b[0mout\u001b[0m\u001b[1;33m.\u001b[0m\u001b[0mflags\u001b[0m\u001b[1;33m.\u001b[0m\u001b[0mf_contiguous\u001b[0m\u001b[1;33m)\u001b[0m\u001b[1;33m:\u001b[0m\u001b[1;33m\u001b[0m\u001b[0m\n\u001b[0;32m    945\u001b[0m             \u001b[1;32mraise\u001b[0m \u001b[0mValueError\u001b[0m\u001b[1;33m(\u001b[0m\u001b[1;34m'Output array must be C or F contiguous'\u001b[0m\u001b[1;33m)\u001b[0m\u001b[1;33m\u001b[0m\u001b[0m\n",
      "\u001b[1;32mC:\\Labo\\Anaconda\\lib\\site-packages\\scipy\\sparse\\base.py\u001b[0m in \u001b[0;36m_process_toarray_args\u001b[1;34m(self, order, out)\u001b[0m\n\u001b[0;32m   1128\u001b[0m             \u001b[1;32mreturn\u001b[0m \u001b[0mout\u001b[0m\u001b[1;33m\u001b[0m\u001b[0m\n\u001b[0;32m   1129\u001b[0m         \u001b[1;32melse\u001b[0m\u001b[1;33m:\u001b[0m\u001b[1;33m\u001b[0m\u001b[0m\n\u001b[1;32m-> 1130\u001b[1;33m             \u001b[1;32mreturn\u001b[0m \u001b[0mnp\u001b[0m\u001b[1;33m.\u001b[0m\u001b[0mzeros\u001b[0m\u001b[1;33m(\u001b[0m\u001b[0mself\u001b[0m\u001b[1;33m.\u001b[0m\u001b[0mshape\u001b[0m\u001b[1;33m,\u001b[0m \u001b[0mdtype\u001b[0m\u001b[1;33m=\u001b[0m\u001b[0mself\u001b[0m\u001b[1;33m.\u001b[0m\u001b[0mdtype\u001b[0m\u001b[1;33m,\u001b[0m \u001b[0morder\u001b[0m\u001b[1;33m=\u001b[0m\u001b[0morder\u001b[0m\u001b[1;33m)\u001b[0m\u001b[1;33m\u001b[0m\u001b[0m\n\u001b[0m\u001b[0;32m   1131\u001b[0m \u001b[1;33m\u001b[0m\u001b[0m\n\u001b[0;32m   1132\u001b[0m     \u001b[1;32mdef\u001b[0m \u001b[0m__numpy_ufunc__\u001b[0m\u001b[1;33m(\u001b[0m\u001b[0mself\u001b[0m\u001b[1;33m,\u001b[0m \u001b[0mfunc\u001b[0m\u001b[1;33m,\u001b[0m \u001b[0mmethod\u001b[0m\u001b[1;33m,\u001b[0m \u001b[0mpos\u001b[0m\u001b[1;33m,\u001b[0m \u001b[0minputs\u001b[0m\u001b[1;33m,\u001b[0m \u001b[1;33m**\u001b[0m\u001b[0mkwargs\u001b[0m\u001b[1;33m)\u001b[0m\u001b[1;33m:\u001b[0m\u001b[1;33m\u001b[0m\u001b[0m\n",
      "\u001b[1;31mMemoryError\u001b[0m: "
     ]
    }
   ],
   "source": [
    "X.toarray()"
   ]
  },
  {
   "cell_type": "code",
   "execution_count": 57,
   "metadata": {},
   "outputs": [
    {
     "data": {
      "text/plain": [
       "(67563,)"
      ]
     },
     "execution_count": 57,
     "metadata": {},
     "output_type": "execute_result"
    }
   ],
   "source": [
    "y=df_train_M['deal_probability'].values\n",
    "y.shape"
   ]
  },
  {
   "cell_type": "code",
   "execution_count": 59,
   "metadata": {},
   "outputs": [
    {
     "data": {
      "text/plain": [
       "112924"
      ]
     },
     "execution_count": 59,
     "metadata": {},
     "output_type": "execute_result"
    }
   ],
   "source": [
    "len(vectorizer.get_feature_names())"
   ]
  },
  {
   "cell_type": "code",
   "execution_count": 60,
   "metadata": {},
   "outputs": [
    {
     "data": {
      "text/plain": [
       "['00',\n",
       " '000',\n",
       " '0000',\n",
       " '000000',\n",
       " '000001',\n",
       " '0000088',\n",
       " '0000099',\n",
       " '00001',\n",
       " '00003',\n",
       " '0000р',\n",
       " '0001',\n",
       " '00095a',\n",
       " '000км',\n",
       " '000р',\n",
       " '000руб',\n",
       " '000рублей',\n",
       " '000т',\n",
       " '000труба',\n",
       " '000тыс',\n",
       " '001',\n",
       " '002',\n",
       " '0020049296',\n",
       " '0020053968',\n",
       " '002b',\n",
       " '002x3',\n",
       " '002с',\n",
       " '003',\n",
       " '004',\n",
       " '005',\n",
       " '0050',\n",
       " '005k',\n",
       " '006',\n",
       " '00605a',\n",
       " '006651',\n",
       " '006r01160',\n",
       " '007',\n",
       " '008',\n",
       " '009',\n",
       " '0095',\n",
       " '00ghz',\n",
       " '00гб',\n",
       " '00до',\n",
       " '00до8',\n",
       " '00м',\n",
       " '00р',\n",
       " '00руб',\n",
       " '00см',\n",
       " '00т',\n",
       " '00ч',\n",
       " '01',\n",
       " '010',\n",
       " '01160a',\n",
       " '0117018',\n",
       " '012',\n",
       " '0124',\n",
       " '012г',\n",
       " '015',\n",
       " '015100',\n",
       " '0151830',\n",
       " '01587',\n",
       " '016',\n",
       " '01604',\n",
       " '018',\n",
       " '01955b',\n",
       " '01958',\n",
       " '01958b',\n",
       " '01969a',\n",
       " '01cc',\n",
       " '01cd',\n",
       " '01d',\n",
       " '01h',\n",
       " '01j',\n",
       " '01u',\n",
       " '01ф',\n",
       " '02',\n",
       " '020',\n",
       " '02000',\n",
       " '02069',\n",
       " '021',\n",
       " '0216',\n",
       " '022',\n",
       " '0225',\n",
       " '02380',\n",
       " '0248',\n",
       " '0249',\n",
       " '025',\n",
       " '0255',\n",
       " '0258',\n",
       " '026',\n",
       " '02690d01',\n",
       " '027',\n",
       " '02740',\n",
       " '02748р',\n",
       " '028',\n",
       " '02854р',\n",
       " '029',\n",
       " '029620',\n",
       " '02t5',\n",
       " '02tb',\n",
       " '02vg',\n",
       " '02vl',\n",
       " '02мм',\n",
       " '02ф',\n",
       " '03',\n",
       " '030',\n",
       " '0303',\n",
       " '0307002',\n",
       " '031',\n",
       " '0316',\n",
       " '032',\n",
       " '0322',\n",
       " '033',\n",
       " '0332',\n",
       " '034',\n",
       " '0340103',\n",
       " '035',\n",
       " '036',\n",
       " '038',\n",
       " '03ag',\n",
       " '03x132',\n",
       " '03м',\n",
       " '03х0',\n",
       " '04',\n",
       " '040',\n",
       " '0402',\n",
       " '0403',\n",
       " '0407',\n",
       " '0414703002',\n",
       " '042',\n",
       " '0423',\n",
       " '0428',\n",
       " '043',\n",
       " '0430',\n",
       " '0431',\n",
       " '0441',\n",
       " '045',\n",
       " '0459',\n",
       " '046',\n",
       " '0465',\n",
       " '047',\n",
       " '0481',\n",
       " '0493',\n",
       " '0494',\n",
       " '04fu',\n",
       " '04g',\n",
       " '04ng',\n",
       " '04u2',\n",
       " '04x137',\n",
       " '04кв',\n",
       " '05',\n",
       " '050',\n",
       " '0502',\n",
       " '0504',\n",
       " '0508',\n",
       " '051',\n",
       " '0521',\n",
       " '0522',\n",
       " '0534',\n",
       " '0544',\n",
       " '055',\n",
       " '0550ad',\n",
       " '055655',\n",
       " '056258',\n",
       " '0563',\n",
       " '057',\n",
       " '058',\n",
       " '05a',\n",
       " '05a1',\n",
       " '05d201a',\n",
       " '05n',\n",
       " '05м',\n",
       " '05м3',\n",
       " '06',\n",
       " '060',\n",
       " '0609',\n",
       " '0610',\n",
       " '065',\n",
       " '06506',\n",
       " '06783u',\n",
       " '0688',\n",
       " '068с',\n",
       " '06ae',\n",
       " '06af',\n",
       " '06cp',\n",
       " '06ghz',\n",
       " '06nw',\n",
       " '06ud',\n",
       " '06года',\n",
       " '07',\n",
       " '070',\n",
       " '07094l',\n",
       " '071',\n",
       " '073',\n",
       " '075',\n",
       " '07_00',\n",
       " '07cg',\n",
       " '07ent2',\n",
       " '07s9',\n",
       " '08',\n",
       " '080',\n",
       " '081',\n",
       " '083',\n",
       " '083343991',\n",
       " '08466b',\n",
       " '085',\n",
       " '088',\n",
       " '08b',\n",
       " '08th',\n",
       " '08года',\n",
       " '08максим',\n",
       " '08мм',\n",
       " '08пс',\n",
       " '08х0',\n",
       " '09',\n",
       " '0900',\n",
       " '090d',\n",
       " '099',\n",
       " '09г',\n",
       " '09г2с',\n",
       " '09или099',\n",
       " '09м2',\n",
       " '0_корпус',\n",
       " '0a',\n",
       " '0ah',\n",
       " '0ak01',\n",
       " '0b',\n",
       " '0c',\n",
       " '0dbfs',\n",
       " '0ghz',\n",
       " '0l',\n",
       " '0mega',\n",
       " '0mm',\n",
       " '0mp',\n",
       " '0mр',\n",
       " '0nfcестьглонассестьgpsестьa',\n",
       " '0tdi',\n",
       " '0x2',\n",
       " '0x24',\n",
       " '0x3',\n",
       " '0в',\n",
       " '0гб',\n",
       " '0ггц',\n",
       " '0гц',\n",
       " '0дм3',\n",
       " '0до',\n",
       " '0до25кг',\n",
       " '0й',\n",
       " '0км',\n",
       " '0л',\n",
       " '0м',\n",
       " '0м2',\n",
       " '0мес',\n",
       " '0метра',\n",
       " '0мп',\n",
       " '0оперативная',\n",
       " '0процессор',\n",
       " '0р',\n",
       " '0см',\n",
       " '0т',\n",
       " '0тк',\n",
       " '0х0',\n",
       " '0х1',\n",
       " '0х2',\n",
       " '0х37',\n",
       " '0х600х1500',\n",
       " '0чень',\n",
       " '0я',\n",
       " '10',\n",
       " '100',\n",
       " '1000',\n",
       " '10000',\n",
       " '100000',\n",
       " '1000000',\n",
       " '100000км',\n",
       " '100000т',\n",
       " '1000050руб',\n",
       " '10000mah',\n",
       " '10000км',\n",
       " '10000м2',\n",
       " '10000р',\n",
       " '10000руб',\n",
       " '10000рублей',\n",
       " '10000семян',\n",
       " '10000т',\n",
       " '10000тр',\n",
       " '10000х2500',\n",
       " '10000ч',\n",
       " '1000a',\n",
       " '1000c',\n",
       " '1000g',\n",
       " '1000gb',\n",
       " '1000hz',\n",
       " '1000p',\n",
       " '1000r',\n",
       " '1000touchsmart',\n",
       " '1000ttouchsmart',\n",
       " '1000v',\n",
       " '1000w',\n",
       " '1000x1000',\n",
       " '1000в',\n",
       " '1000ват',\n",
       " '1000вт',\n",
       " '1000гб',\n",
       " '1000до5000т',\n",
       " '1000кг',\n",
       " '1000км',\n",
       " '1000куб',\n",
       " '1000л',\n",
       " '1000литров',\n",
       " '1000м',\n",
       " '1000м2',\n",
       " '1000мгц',\n",
       " '1000мм',\n",
       " '1000об',\n",
       " '1000р',\n",
       " '1000руб',\n",
       " '1000рублей',\n",
       " '1000см',\n",
       " '1000х1000',\n",
       " '1000х2100',\n",
       " '1000х210х70',\n",
       " '1000х500',\n",
       " '1000х500мм',\n",
       " '1000х500х50',\n",
       " '1000шт',\n",
       " '1000яиц',\n",
       " '1003298281',\n",
       " '1003300893',\n",
       " '1004f',\n",
       " '1005',\n",
       " '1005d',\n",
       " '1005p',\n",
       " '1007u',\n",
       " '1008',\n",
       " '100base',\n",
       " '100db',\n",
       " '100g',\n",
       " '100mb',\n",
       " '100mm',\n",
       " '100rus',\n",
       " '100w',\n",
       " '100x',\n",
       " '100x120',\n",
       " '100x2',\n",
       " '100а',\n",
       " '100в',\n",
       " '100вт',\n",
       " '100г',\n",
       " '100гр',\n",
       " '100дб',\n",
       " '100кв',\n",
       " '100квадратов',\n",
       " '100кг',\n",
       " '100км',\n",
       " '100куб',\n",
       " '100л',\n",
       " '100литров',\n",
       " '100м',\n",
       " '100м2',\n",
       " '100максимальная',\n",
       " '100мб',\n",
       " '100метрах',\n",
       " '100метров',\n",
       " '100мл',\n",
       " '100мм',\n",
       " '100мм120мм150мм200мм',\n",
       " '100печей',\n",
       " '100процентный',\n",
       " '100р',\n",
       " '100руб',\n",
       " '100рублей',\n",
       " '100см',\n",
       " '100т',\n",
       " '100тр',\n",
       " '100тыс',\n",
       " '100у',\n",
       " '100х100',\n",
       " '100х100мм',\n",
       " '100х100х218',\n",
       " '100х100х55',\n",
       " '100х100х6000',\n",
       " '100х120',\n",
       " '100х130',\n",
       " '100х150',\n",
       " '100х150х6000',\n",
       " '100х150х7000мм',\n",
       " '100х180',\n",
       " '100х180х',\n",
       " '100х180х6000',\n",
       " '100х200',\n",
       " '100х200х6000',\n",
       " '100х200х7000',\n",
       " '100х25мм',\n",
       " '100х40',\n",
       " '100х40мм',\n",
       " '100х50',\n",
       " '100х50х3мм',\n",
       " '100х50х5',\n",
       " '100х50х8',\n",
       " '100х60х250',\n",
       " '100х80',\n",
       " '100шт',\n",
       " '100штук',\n",
       " '101',\n",
       " '1010',\n",
       " '1010touchsmart',\n",
       " '1011',\n",
       " '10110л',\n",
       " '1011px',\n",
       " '1011touchsmart',\n",
       " '1012',\n",
       " '1015',\n",
       " '1015krtouchsmart',\n",
       " '1016',\n",
       " '1017touchsmart',\n",
       " '1018',\n",
       " '1018touchsmart',\n",
       " '101ch',\n",
       " '101а',\n",
       " '102',\n",
       " '1020',\n",
       " '10200',\n",
       " '102000',\n",
       " '1020latouchsmart',\n",
       " '1020mfp',\n",
       " '1020p',\n",
       " '1020touchsmart',\n",
       " '1020х12',\n",
       " '1022',\n",
       " '1023',\n",
       " '10230x2550x3130',\n",
       " '10235',\n",
       " '1023mb',\n",
       " '1024',\n",
       " '1024m',\n",
       " '1024mb',\n",
       " '1024x600',\n",
       " '1024x768',\n",
       " '1024мб',\n",
       " '1024х600',\n",
       " '1024х768',\n",
       " '1025',\n",
       " '10256',\n",
       " '1025гр',\n",
       " '1026540',\n",
       " '1028mfp',\n",
       " '1029',\n",
       " '102авто',\n",
       " '102и',\n",
       " '102л',\n",
       " '102см',\n",
       " '102х3',\n",
       " '102х6',\n",
       " '103',\n",
       " '1030',\n",
       " '103000',\n",
       " '1030f',\n",
       " '1030touchsmart',\n",
       " '1030y',\n",
       " '1031dtouchsmart',\n",
       " '1031f',\n",
       " '1032',\n",
       " '1032f',\n",
       " '1032touchsmart',\n",
       " '1033touchsmart',\n",
       " '1035mfp',\n",
       " '1035t',\n",
       " '1036',\n",
       " '1036dtouchsmart',\n",
       " '1037dtouchsmart',\n",
       " '1038dtouchsmart',\n",
       " '1038touchsmart',\n",
       " '103990',\n",
       " '1039twtouchsmart',\n",
       " '103го',\n",
       " '104',\n",
       " '1040',\n",
       " '1040f',\n",
       " '1041',\n",
       " '1044',\n",
       " '104556',\n",
       " '1045597',\n",
       " '1048dtouchsmart',\n",
       " '1048touchsmart',\n",
       " '10490',\n",
       " '10499руб',\n",
       " '104db',\n",
       " '104м',\n",
       " '104см',\n",
       " '105',\n",
       " '1050',\n",
       " '10500',\n",
       " '105000',\n",
       " '105000р',\n",
       " '10500р',\n",
       " '10500руб',\n",
       " '10500т',\n",
       " '1050atouchsmart',\n",
       " '1050betouchsmart',\n",
       " '1050detouchsmart',\n",
       " '1050f',\n",
       " '1050frtouchsmart',\n",
       " '1050grtouchsmart',\n",
       " '1050ittouchsmart',\n",
       " '1050mhz',\n",
       " '1050pttouchsmart',\n",
       " '1050sctouchsmart',\n",
       " '1050ti',\n",
       " '1050touchsmart',\n",
       " '1050uktouchsmart',\n",
       " '1050y',\n",
       " '1050р',\n",
       " '1051',\n",
       " '105200',\n",
       " '1053км',\n",
       " '1054',\n",
       " '1055t',\n",
       " '1058',\n",
       " '1058touchsmart',\n",
       " '10590',\n",
       " '10590руб',\n",
       " '105db',\n",
       " '105mm',\n",
       " '105vr',\n",
       " '105x53x88',\n",
       " '105а',\n",
       " '105вт',\n",
       " '105к2',\n",
       " '105л',\n",
       " '105м',\n",
       " '105м2',\n",
       " '105мм',\n",
       " '105см',\n",
       " '105т',\n",
       " '106',\n",
       " '1060',\n",
       " '10600',\n",
       " '10600r',\n",
       " '10600u',\n",
       " '1060intouchsmart',\n",
       " '1060jptouchsmart',\n",
       " '1060super',\n",
       " '1066',\n",
       " '1068cntouchsmart',\n",
       " '10690',\n",
       " '106b',\n",
       " '106л',\n",
       " '106см',\n",
       " '106х124х60',\n",
       " '107',\n",
       " '1070',\n",
       " '10700',\n",
       " '107000',\n",
       " '10700р',\n",
       " '107079',\n",
       " '1070atouchsmart',\n",
       " '1070d',\n",
       " '1070jp',\n",
       " '1070touchsmart',\n",
       " '1070мгц',\n",
       " '1071',\n",
       " '1072',\n",
       " '1075х1740х680',\n",
       " '1077x626x65',\n",
       " '1077x683x310',\n",
       " '107шт',\n",
       " '108',\n",
       " '1080',\n",
       " '108000',\n",
       " '1080i',\n",
       " '1080i50',\n",
       " '1080p',\n",
       " '1080p50',\n",
       " '1080ti',\n",
       " '1080x1920',\n",
       " '1080р',\n",
       " '1081',\n",
       " '1083',\n",
       " '1085',\n",
       " '1088cn',\n",
       " '10899руб',\n",
       " '108кв',\n",
       " '108мhz',\n",
       " '108мм',\n",
       " '108см',\n",
       " '108х3',\n",
       " '108х4',\n",
       " '108х70см',\n",
       " '109',\n",
       " '1090',\n",
       " '10900',\n",
       " '1090jp',\n",
       " '1090touchsmart',\n",
       " '1092',\n",
       " '1095e',\n",
       " '1096',\n",
       " '1099',\n",
       " '10990',\n",
       " '10990р',\n",
       " '109см',\n",
       " '10ah',\n",
       " '10base',\n",
       " '10dbu',\n",
       " '10ez',\n",
       " '10k',\n",
       " '10kw',\n",
       " '10mm',\n",
       " '10pro',\n",
       " '10r20',\n",
       " '10s',\n",
       " '10w',\n",
       " '10w40',\n",
       " '10x123',\n",
       " '10x135',\n",
       " '10x138',\n",
       " '10x6',\n",
       " '10x9',\n",
       " '10xcd',\n",
       " '10ω',\n",
       " '10а',\n",
       " '10аh',\n",
       " '10б',\n",
       " '10бл',\n",
       " '10в',\n",
       " '10вт',\n",
       " '10г',\n",
       " '10год',\n",
       " '10голов',\n",
       " '10грамм',\n",
       " '10д',\n",
       " '10дней',\n",
       " '10до',\n",
       " '10е',\n",
       " '10и',\n",
       " '10к',\n",
       " '10кб',\n",
       " '10кв',\n",
       " '10квт',\n",
       " '10кг',\n",
       " '10км',\n",
       " '10ку',\n",
       " '10куб',\n",
       " '10кубов',\n",
       " '10л',\n",
       " '10лет',\n",
       " '10литров',\n",
       " '10м',\n",
       " '10м2',\n",
       " '10м3',\n",
       " '10м²',\n",
       " '10мб',\n",
       " '10мес',\n",
       " '10мест',\n",
       " '10месяцев',\n",
       " '10метров',\n",
       " '10мин',\n",
       " '10минут',\n",
       " '10мк',\n",
       " '10мм',\n",
       " '10п',\n",
       " '10р',\n",
       " '10ребер',\n",
       " '10руб',\n",
       " '10с',\n",
       " '10секций',\n",
       " '10см',\n",
       " '10см_200р',\n",
       " '10состок',\n",
       " '10сот',\n",
       " '10соток',\n",
       " '10ст',\n",
       " '10т',\n",
       " '10ти',\n",
       " '10титонники',\n",
       " '10тн',\n",
       " '10тон',\n",
       " '10тонн',\n",
       " '10тонник',\n",
       " '10тр',\n",
       " '10тыс',\n",
       " '10тысяч',\n",
       " '10у',\n",
       " '10фото',\n",
       " '10х',\n",
       " '10х1',\n",
       " '10х10',\n",
       " '10х10м',\n",
       " '10х10х',\n",
       " '10х12',\n",
       " '10х13',\n",
       " '10х15',\n",
       " '10х15х',\n",
       " '10х2',\n",
       " '10х20',\n",
       " '10х20х',\n",
       " '10х50',\n",
       " '10х500х750',\n",
       " '10х8',\n",
       " '10хcacib',\n",
       " '10ч',\n",
       " '10шт',\n",
       " '10штук',\n",
       " '10эт',\n",
       " '11',\n",
       " '110',\n",
       " '1100',\n",
       " '11000',\n",
       " '110000',\n",
       " '1100000',\n",
       " '110000рублей',\n",
       " '11000в',\n",
       " '11000км',\n",
       " '11000об',\n",
       " '11000р',\n",
       " '11000т',\n",
       " '1100d',\n",
       " '1100nltouchsmart',\n",
       " '1100touchsmart',\n",
       " '1100мм',\n",
       " '1100р',\n",
       " '1100руб',\n",
       " '1100тр',\n",
       " '1101a',\n",
       " '1105',\n",
       " '1105frtouchsmart',\n",
       " '1105touchsmart',\n",
       " '1105xt',\n",
       " '1107047',\n",
       " '1108',\n",
       " '110cc',\n",
       " '110t300',\n",
       " '110v',\n",
       " '110в',\n",
       " '110д',\n",
       " '110дней',\n",
       " '110кб',\n",
       " '110кв',\n",
       " '110кг',\n",
       " '110куб',\n",
       " '110кубов',\n",
       " '110л',\n",
       " '110м',\n",
       " '110м2',\n",
       " '110мм',\n",
       " '110р',\n",
       " '110руб',\n",
       " '110см',\n",
       " '110сс',\n",
       " '110х100х77',\n",
       " '110х115',\n",
       " '110х120',\n",
       " '110х140',\n",
       " '110х230х58',\n",
       " '110х50х60см',\n",
       " '110х60',\n",
       " '110х70х10',\n",
       " '110шт',\n",
       " '111',\n",
       " '1110',\n",
       " '1110000',\n",
       " '11100км',\n",
       " '1110pltouchsmart',\n",
       " '1110rutouchsmart',\n",
       " '1110sctouchsmart',\n",
       " '1110touchsmart',\n",
       " '1110trtouchsmart',\n",
       " '1110uktouchsmart',\n",
       " '1111',\n",
       " '111113',\n",
       " '111119',\n",
       " '11113',\n",
       " '1112touchsmart',\n",
       " '11130р',\n",
       " '1114',\n",
       " '1115rutouchsmart',\n",
       " '1115touchsmart',\n",
       " '1118touchsmart',\n",
       " '111ры',\n",
       " '111с',\n",
       " '111см',\n",
       " '111у',\n",
       " '112',\n",
       " '1120',\n",
       " '1120jptouchsmart',\n",
       " '1120rutouchsmart',\n",
       " '1124touchsmart',\n",
       " '1125',\n",
       " '1125adпоказать',\n",
       " '1125rutouchsmart',\n",
       " '1125touchsmart',\n",
       " '1125руб',\n",
       " '1126',\n",
       " '1126touchsmart',\n",
       " '1127x692x29',\n",
       " '1127x758x285',\n",
       " '1129',\n",
       " '11299руб',\n",
       " '112a',\n",
       " '112а',\n",
       " '112кв',\n",
       " '113',\n",
       " '1130',\n",
       " '113000',\n",
       " '1130f',\n",
       " '1130jptouchsmart',\n",
       " '1130y',\n",
       " '1135mfp',\n",
       " '1136',\n",
       " '11360руб',\n",
       " '1137',\n",
       " '1138',\n",
       " '113а',\n",
       " '113г',\n",
       " '114',\n",
       " '1140',\n",
       " '1145touchsmart',\n",
       " '1145uktouchsmart',\n",
       " '1149',\n",
       " '114950',\n",
       " '114db',\n",
       " '114mm',\n",
       " '114а',\n",
       " '114см',\n",
       " '114х10',\n",
       " '115',\n",
       " '1150',\n",
       " '11500',\n",
       " '115000',\n",
       " '1150000',\n",
       " '11500k',\n",
       " '11500р',\n",
       " '11500руб',\n",
       " '1150qd',\n",
       " '1150touchsmart',\n",
       " '1150мм',\n",
       " '1150р',\n",
       " '1151',\n",
       " '1152',\n",
       " '1155',\n",
       " '1155touchsmart',\n",
       " '1155р',\n",
       " '1156',\n",
       " '1158touchsmart',\n",
       " '115кв',\n",
       " '115л',\n",
       " '115мм',\n",
       " '115р',\n",
       " '115см',\n",
       " '115тыс',\n",
       " '115х156х3',\n",
       " '115х190см',\n",
       " '115х75',\n",
       " '116',\n",
       " '1160',\n",
       " '11600',\n",
       " '116000',\n",
       " '116000р',\n",
       " '11630р',\n",
       " '11670руб',\n",
       " '11690',\n",
       " '1169803',\n",
       " '116а',\n",
       " '116кв',\n",
       " '116л',\n",
       " '116мм',\n",
       " '116см',\n",
       " '116т',\n",
       " '117',\n",
       " '1174',\n",
       " '1175',\n",
       " '1177',\n",
       " '1178',\n",
       " '118',\n",
       " '1180',\n",
       " '11800',\n",
       " '118000',\n",
       " '11800р',\n",
       " '1180х1180х1300',\n",
       " '1180х750х600',\n",
       " '1182х1127х355',\n",
       " '11880руб',\n",
       " '11899руб',\n",
       " '118db',\n",
       " '118см',\n",
       " '118т',\n",
       " '119',\n",
       " '1190',\n",
       " '119000',\n",
       " '119700р',\n",
       " '11990',\n",
       " '11999р',\n",
       " '11999руб',\n",
       " '1199р',\n",
       " '119а',\n",
       " '119квм',\n",
       " '119л',\n",
       " '119м',\n",
       " '11a',\n",
       " '11aс',\n",
       " '11b',\n",
       " '11bmagnifier',\n",
       " '11g',\n",
       " '11n',\n",
       " '11nкоммуникацииbluetoothестьверсия',\n",
       " '11p',\n",
       " '11а',\n",
       " '11аг92',\n",
       " '11б',\n",
       " '11бмкр',\n",
       " '11г',\n",
       " '11года',\n",
       " '11зимой',\n",
       " '11к',\n",
       " '11кв',\n",
       " '11кг',\n",
       " '11кл',\n",
       " '11классы',\n",
       " '11куб',\n",
       " '11кубовая',\n",
       " '11л',\n",
       " '11лет',\n",
       " '11лит',\n",
       " '11м',\n",
       " '11м2',\n",
       " '11месяцев',\n",
       " '11метров',\n",
       " '11р',\n",
       " '11ребер',\n",
       " '11руб',\n",
       " '11секций',\n",
       " '11серий',\n",
       " '11см',\n",
       " '11ступеней',\n",
       " '11т',\n",
       " '11тонн',\n",
       " '11тысяч',\n",
       " '11ф',\n",
       " '11февраля',\n",
       " '11х',\n",
       " '11х6',\n",
       " '11х8',\n",
       " '11ч',\n",
       " '11шт',\n",
       " '12',\n",
       " '120',\n",
       " '1200',\n",
       " '12000',\n",
       " '120000',\n",
       " '1200000',\n",
       " '120000км',\n",
       " '12000mah',\n",
       " '12000р',\n",
       " '12000руб',\n",
       " '12000т',\n",
       " '12000тр',\n",
       " '1200p',\n",
       " '1200touchsmart',\n",
       " '1200w',\n",
       " '1200x1200',\n",
       " '1200ztouchsmart',\n",
       " '1200вт',\n",
       " '1200кв',\n",
       " '1200кг',\n",
       " '1200кубов',\n",
       " '1200метров',\n",
       " '1200мм',\n",
       " '1200об',\n",
       " '1200р',\n",
       " '1200руб',\n",
       " '1200рублей',\n",
       " '1200х1000',\n",
       " '1200х4000',\n",
       " '1200х600',\n",
       " '1200х800',\n",
       " '1201',\n",
       " '1201touchsmart',\n",
       " '1202мгц',\n",
       " '1205touchsmart',\n",
       " '12060руб',\n",
       " '12062',\n",
       " '1208',\n",
       " '120800av',\n",
       " '1208b',\n",
       " '1209',\n",
       " '120fps',\n",
       " '120gb',\n",
       " '120i',\n",
       " '120l',\n",
       " '120le',\n",
       " '120v',\n",
       " '120w',\n",
       " '120x100',\n",
       " '120x50см',\n",
       " '120x80',\n",
       " '120в',\n",
       " '120гб',\n",
       " '120к',\n",
       " '120кв',\n",
       " '120кг',\n",
       " '120км',\n",
       " ...]"
      ]
     },
     "execution_count": 60,
     "metadata": {},
     "output_type": "execute_result"
    }
   ],
   "source": [
    "vectorizer.get_feature_names()"
   ]
  },
  {
   "cell_type": "code",
   "execution_count": 38,
   "metadata": {},
   "outputs": [
    {
     "data": {
      "text/plain": [
       "(67563, 112924)"
      ]
     },
     "execution_count": 38,
     "metadata": {},
     "output_type": "execute_result"
    }
   ],
   "source": [
    "#X.toarray() \n",
    "X.shape"
   ]
  },
  {
   "cell_type": "markdown",
   "metadata": {},
   "source": [
    "#The converse mapping from feature name to column index is stored in the vocabulary_ attribute of the vectorizer:\n",
    "\n"
   ]
  },
  {
   "cell_type": "code",
   "execution_count": 42,
   "metadata": {},
   "outputs": [],
   "source": [
    "n=40000\n",
    "X_train=X[n:]\n",
    "y_train=y[n:]"
   ]
  },
  {
   "cell_type": "code",
   "execution_count": 51,
   "metadata": {},
   "outputs": [
    {
     "ename": "ValueError",
     "evalue": "Unknown label type: 'continuous'",
     "output_type": "error",
     "traceback": [
      "\u001b[1;31m---------------------------------------------------------------------------\u001b[0m",
      "\u001b[1;31mValueError\u001b[0m                                Traceback (most recent call last)",
      "\u001b[1;32m<ipython-input-51-2d583b416a93>\u001b[0m in \u001b[0;36m<module>\u001b[1;34m()\u001b[0m\n\u001b[0;32m      2\u001b[0m \u001b[0mclf\u001b[0m\u001b[1;33m=\u001b[0m\u001b[1;32mNone\u001b[0m\u001b[1;33m\u001b[0m\u001b[0m\n\u001b[0;32m      3\u001b[0m \u001b[0mclf\u001b[0m \u001b[1;33m=\u001b[0m \u001b[0mSVC\u001b[0m\u001b[1;33m(\u001b[0m\u001b[1;33m)\u001b[0m\u001b[1;33m\u001b[0m\u001b[0m\n\u001b[1;32m----> 4\u001b[1;33m \u001b[0mclf\u001b[0m\u001b[1;33m.\u001b[0m\u001b[0mfit\u001b[0m\u001b[1;33m(\u001b[0m\u001b[0mX_train\u001b[0m\u001b[1;33m,\u001b[0m \u001b[0my_train\u001b[0m\u001b[1;33m)\u001b[0m\u001b[1;33m\u001b[0m\u001b[0m\n\u001b[0m",
      "\u001b[1;32mC:\\Labo\\Anaconda\\lib\\site-packages\\sklearn\\svm\\base.py\u001b[0m in \u001b[0;36mfit\u001b[1;34m(self, X, y, sample_weight)\u001b[0m\n\u001b[0;32m    148\u001b[0m \u001b[1;33m\u001b[0m\u001b[0m\n\u001b[0;32m    149\u001b[0m         \u001b[0mX\u001b[0m\u001b[1;33m,\u001b[0m \u001b[0my\u001b[0m \u001b[1;33m=\u001b[0m \u001b[0mcheck_X_y\u001b[0m\u001b[1;33m(\u001b[0m\u001b[0mX\u001b[0m\u001b[1;33m,\u001b[0m \u001b[0my\u001b[0m\u001b[1;33m,\u001b[0m \u001b[0mdtype\u001b[0m\u001b[1;33m=\u001b[0m\u001b[0mnp\u001b[0m\u001b[1;33m.\u001b[0m\u001b[0mfloat64\u001b[0m\u001b[1;33m,\u001b[0m \u001b[0morder\u001b[0m\u001b[1;33m=\u001b[0m\u001b[1;34m'C'\u001b[0m\u001b[1;33m,\u001b[0m \u001b[0maccept_sparse\u001b[0m\u001b[1;33m=\u001b[0m\u001b[1;34m'csr'\u001b[0m\u001b[1;33m)\u001b[0m\u001b[1;33m\u001b[0m\u001b[0m\n\u001b[1;32m--> 150\u001b[1;33m         \u001b[0my\u001b[0m \u001b[1;33m=\u001b[0m \u001b[0mself\u001b[0m\u001b[1;33m.\u001b[0m\u001b[0m_validate_targets\u001b[0m\u001b[1;33m(\u001b[0m\u001b[0my\u001b[0m\u001b[1;33m)\u001b[0m\u001b[1;33m\u001b[0m\u001b[0m\n\u001b[0m\u001b[0;32m    151\u001b[0m \u001b[1;33m\u001b[0m\u001b[0m\n\u001b[0;32m    152\u001b[0m         sample_weight = np.asarray([]\n",
      "\u001b[1;32mC:\\Labo\\Anaconda\\lib\\site-packages\\sklearn\\svm\\base.py\u001b[0m in \u001b[0;36m_validate_targets\u001b[1;34m(self, y)\u001b[0m\n\u001b[0;32m    498\u001b[0m     \u001b[1;32mdef\u001b[0m \u001b[0m_validate_targets\u001b[0m\u001b[1;33m(\u001b[0m\u001b[0mself\u001b[0m\u001b[1;33m,\u001b[0m \u001b[0my\u001b[0m\u001b[1;33m)\u001b[0m\u001b[1;33m:\u001b[0m\u001b[1;33m\u001b[0m\u001b[0m\n\u001b[0;32m    499\u001b[0m         \u001b[0my_\u001b[0m \u001b[1;33m=\u001b[0m \u001b[0mcolumn_or_1d\u001b[0m\u001b[1;33m(\u001b[0m\u001b[0my\u001b[0m\u001b[1;33m,\u001b[0m \u001b[0mwarn\u001b[0m\u001b[1;33m=\u001b[0m\u001b[1;32mTrue\u001b[0m\u001b[1;33m)\u001b[0m\u001b[1;33m\u001b[0m\u001b[0m\n\u001b[1;32m--> 500\u001b[1;33m         \u001b[0mcheck_classification_targets\u001b[0m\u001b[1;33m(\u001b[0m\u001b[0my\u001b[0m\u001b[1;33m)\u001b[0m\u001b[1;33m\u001b[0m\u001b[0m\n\u001b[0m\u001b[0;32m    501\u001b[0m         \u001b[0mcls\u001b[0m\u001b[1;33m,\u001b[0m \u001b[0my\u001b[0m \u001b[1;33m=\u001b[0m \u001b[0mnp\u001b[0m\u001b[1;33m.\u001b[0m\u001b[0munique\u001b[0m\u001b[1;33m(\u001b[0m\u001b[0my_\u001b[0m\u001b[1;33m,\u001b[0m \u001b[0mreturn_inverse\u001b[0m\u001b[1;33m=\u001b[0m\u001b[1;32mTrue\u001b[0m\u001b[1;33m)\u001b[0m\u001b[1;33m\u001b[0m\u001b[0m\n\u001b[0;32m    502\u001b[0m         \u001b[0mself\u001b[0m\u001b[1;33m.\u001b[0m\u001b[0mclass_weight_\u001b[0m \u001b[1;33m=\u001b[0m \u001b[0mcompute_class_weight\u001b[0m\u001b[1;33m(\u001b[0m\u001b[0mself\u001b[0m\u001b[1;33m.\u001b[0m\u001b[0mclass_weight\u001b[0m\u001b[1;33m,\u001b[0m \u001b[0mcls\u001b[0m\u001b[1;33m,\u001b[0m \u001b[0my_\u001b[0m\u001b[1;33m)\u001b[0m\u001b[1;33m\u001b[0m\u001b[0m\n",
      "\u001b[1;32mC:\\Labo\\Anaconda\\lib\\site-packages\\sklearn\\utils\\multiclass.py\u001b[0m in \u001b[0;36mcheck_classification_targets\u001b[1;34m(y)\u001b[0m\n\u001b[0;32m    170\u001b[0m     if y_type not in ['binary', 'multiclass', 'multiclass-multioutput',\n\u001b[0;32m    171\u001b[0m                       'multilabel-indicator', 'multilabel-sequences']:\n\u001b[1;32m--> 172\u001b[1;33m         \u001b[1;32mraise\u001b[0m \u001b[0mValueError\u001b[0m\u001b[1;33m(\u001b[0m\u001b[1;34m\"Unknown label type: %r\"\u001b[0m \u001b[1;33m%\u001b[0m \u001b[0my_type\u001b[0m\u001b[1;33m)\u001b[0m\u001b[1;33m\u001b[0m\u001b[0m\n\u001b[0m\u001b[0;32m    173\u001b[0m \u001b[1;33m\u001b[0m\u001b[0m\n\u001b[0;32m    174\u001b[0m \u001b[1;33m\u001b[0m\u001b[0m\n",
      "\u001b[1;31mValueError\u001b[0m: Unknown label type: 'continuous'"
     ]
    }
   ],
   "source": [
    "from sklearn.svm import SVC\n",
    "clf=None\n",
    "clf = SVC()\n",
    "clf.fit(X_train, y_train) "
   ]
  },
  {
   "cell_type": "code",
   "execution_count": 44,
   "metadata": {},
   "outputs": [],
   "source": [
    "X_test=X[:n]\n",
    "y_test=y[:n]"
   ]
  },
  {
   "cell_type": "code",
   "execution_count": null,
   "metadata": {},
   "outputs": [],
   "source": []
  },
  {
   "cell_type": "code",
   "execution_count": 47,
   "metadata": {},
   "outputs": [
    {
     "data": {
      "text/plain": [
       "1"
      ]
     },
     "execution_count": 47,
     "metadata": {},
     "output_type": "execute_result"
    }
   ],
   "source": [
    "vectorizer.vocabulary_.get('document')"
   ]
  },
  {
   "cell_type": "code",
   "execution_count": 16,
   "metadata": {},
   "outputs": [],
   "source": [
    "arr_corpus=df_train_M['description'].values\n",
    "\n",
    "#list(df_train_M['description'].values)"
   ]
  },
  {
   "cell_type": "code",
   "execution_count": null,
   "metadata": {},
   "outputs": [],
   "source": []
  }
 ],
 "metadata": {
  "kernelspec": {
   "display_name": "Python 3",
   "language": "python",
   "name": "python3"
  },
  "language_info": {
   "codemirror_mode": {
    "name": "ipython",
    "version": 3
   },
   "file_extension": ".py",
   "mimetype": "text/x-python",
   "name": "python",
   "nbconvert_exporter": "python",
   "pygments_lexer": "ipython3",
   "version": "3.6.4"
  }
 },
 "nbformat": 4,
 "nbformat_minor": 2
}
